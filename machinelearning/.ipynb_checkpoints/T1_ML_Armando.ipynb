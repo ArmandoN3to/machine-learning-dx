{
 "cells": [
  {
   "cell_type": "markdown",
   "metadata": {},
   "source": [
    "# Parte A\n"
   ]
  },
  {
   "cell_type": "code",
   "execution_count": 47,
   "metadata": {},
   "outputs": [],
   "source": [
    "import cv2\n",
    "import numpy as np\n",
    "import os\n",
    "import matplotlib.pyplot as plt\n",
    "from PIL import Image,ImageOps\n"
   ]
  },
  {
   "cell_type": "code",
   "execution_count": 48,
   "metadata": {},
   "outputs": [],
   "source": [
    "\n",
    "k1=np.array([[-1,-1,-1],\n",
    "             [-1,9,-1],\n",
    "             [-1,-1,-1]])\n",
    "k2=np.array([[1,0,0],\n",
    "             [0,0,0],\n",
    "             [0,0,-1]])\n",
    "\n",
    "k3=np.array([[0,0,0],\n",
    "             [0,1,0],\n",
    "             [0,0,0]])\n",
    "\n",
    "k4=np.array([[0,-1,0],\n",
    "             [-1,5,-1],\n",
    "             [0,-1,0]])\n",
    "\n",
    "k5=np.array([[0,1,0],\n",
    "             [1,-4,1],\n",
    "             [0,1,0]])\n",
    "\n",
    "k6=np.array([[1,0,-1],\n",
    "             [0,0,0],\n",
    "             [-1,0,1]])\n",
    "\n",
    "k7=np.array([[-1,0,1],\n",
    "             [-2,0,2],\n",
    "             [-1,0,1]])\n"
   ]
  },
  {
   "cell_type": "code",
   "execution_count": 53,
   "metadata": {},
   "outputs": [],
   "source": [
    "#Copia\n",
    "def filtercam2(pasta=\"filtered_frames\"):\n",
    "    \n",
    "    kernels = [0,k1, k2, k3, k4, k5, k6, k7]\n",
    "    \n",
    "    \n",
    "    captura = cv2.VideoCapture(0)\n",
    "    if not captura.isOpened():\n",
    "        print(\"Erro ao abrir webcam.\")\n",
    "        return\n",
    "\n",
    "    \n",
    "    os.makedirs(pasta, exist_ok=True)\n",
    "\n",
    "    filtro = 0  \n",
    "    count = 0\n",
    "\n",
    "    while True:\n",
    "        ret, frame = captura.read()\n",
    "        if not ret:\n",
    "            print(\"Fim do vídeo ou erro na captura.\")\n",
    "            break\n",
    "\n",
    "        if filtro > 0 and filtro < len(kernels):\n",
    "            frame_filtro = cv2.filter2D(frame, -1, kernels[filtro])\n",
    "        else:\n",
    "            frame_filtro = frame\n",
    "\n",
    "        \n",
    "        cv2.imshow('Video', frame_filtro)\n",
    "\n",
    "        \n",
    "        frame_nome = os.path.join(pasta, f\"frame{count:05d}filter{filtro}.jpg\")\n",
    "        if filtro!=0:\n",
    "            cv2.imwrite(frame_nome, frame_filtro)\n",
    "        else:\n",
    "            pass\n",
    "        count += 1\n",
    "\n",
    "        key= cv2.waitKey(1) & 0xFF\n",
    "\n",
    "        if key == ord('1'):  \n",
    "            filtro = 1\n",
    "        elif key == ord('2'):  \n",
    "            filtro = 2\n",
    "        elif key == ord('3'):  \n",
    "            filtro = 3\n",
    "        elif key == ord('4'):  \n",
    "            filtro = 4\n",
    "        elif key == ord('5'):  \n",
    "            filtro = 5\n",
    "        elif key == ord('6'):  \n",
    "            filtro = 6\n",
    "        elif key == ord('7'):\n",
    "            filtro = 7\n",
    "        elif key == ord('0'):  \n",
    "            filtro = 0\n",
    "\n",
    "        if key == ord('q'):\n",
    "            break\n",
    "\n",
    "    cv2.destroyAllWindows()\n",
    "    captura.release()"
   ]
  },
  {
   "cell_type": "code",
   "execution_count": 54,
   "metadata": {},
   "outputs": [],
   "source": [
    "filtercam2()"
   ]
  },
  {
   "cell_type": "markdown",
   "metadata": {},
   "source": [
    "# PARTE B"
   ]
  },
  {
   "cell_type": "code",
   "execution_count": 55,
   "metadata": {},
   "outputs": [],
   "source": [
    "def redimensionar_imagem(imagem, escala, tipo_interpolacao):\n",
    "    largura = int(imagem.shape[1] * escala / 100)\n",
    "    altura = int(imagem.shape[0] * escala / 100)\n",
    "    return cv2.resize(imagem, (largura, altura), interpolation=tipo_interpolacao)\n",
    "\n",
    "def redimensionar_com_webcam(pasta_saida=\"Parte B - redimensionamento\"):\n",
    "    os.makedirs(pasta_saida, exist_ok=True)\n",
    "    captura = cv2.VideoCapture(0)\n",
    "    escala = 10\n",
    "    interpolacao = cv2.INTER_NEAREST\n",
    "\n",
    "    while True:\n",
    "        sucesso, frame = captura.read()\n",
    "        if not sucesso:\n",
    "            break\n",
    "\n",
    "        frame_redimensionado = redimensionar_imagem(frame, escala, interpolacao)\n",
    "        cv2.imshow(\"Redimensionado\", frame_redimensionado)\n",
    "\n",
    "        tecla = cv2.waitKey(1) & 0xFF\n",
    "        if tecla == ord(\"+\") and escala < 50:\n",
    "            escala += 10\n",
    "        elif tecla == ord(\"-\") and escala > 10:\n",
    "            escala -= 10\n",
    "        elif tecla in [ord(\"N\"), ord(\"L\"), ord(\"A\"), ord(\"C\"), ord(\"Z\")]:\n",
    "            tipos = {\n",
    "                \"N\": cv2.INTER_NEAREST,\n",
    "                \"L\": cv2.INTER_LINEAR,\n",
    "                \"A\": cv2.INTER_AREA,\n",
    "                \"C\": cv2.INTER_CUBIC,\n",
    "                \"Z\": cv2.INTER_LANCZOS4\n",
    "            }\n",
    "            interpolacao = tipos[chr(tecla).upper()]\n",
    "        elif tecla == ord(\"q\"):\n",
    "            break\n",
    "        cv2.imwrite(f\"{pasta_saida}/frame_{escala}_{tecla}.png\", frame_redimensionado)\n",
    "\n",
    "\n",
    "    captura.release()\n",
    "    cv2.destroyAllWindows()\n"
   ]
  },
  {
   "cell_type": "code",
   "execution_count": 56,
   "metadata": {},
   "outputs": [],
   "source": [
    "redimensionar_com_webcam()"
   ]
  },
  {
   "cell_type": "markdown",
   "metadata": {},
   "source": [
    "# PARTE 3\n"
   ]
  },
  {
   "cell_type": "code",
   "execution_count": 51,
   "metadata": {},
   "outputs": [],
   "source": [
    "\n",
    "def detectar_pecas_faltando(imagem1, imagem2, pasta_saida='C:/Users/arman/codigos_github/machine-learning-dx/machinelearning/'):\n",
    "    # os.makedirs(pasta_saida, exist_ok=True)\n",
    "\n",
    "    img1 = cv2.imread(imagem1)\n",
    "    img2 = cv2.imread(imagem2)\n",
    "\n",
    "    if img1 is None:\n",
    "        print(f\"Erro ao carregar a imagem: {imagem1}\")\n",
    "        return\n",
    "    if img2 is None:\n",
    "        print(f\"Erro ao carregar a imagem: {imagem2}\")\n",
    "        return\n",
    "\n",
    "    \n",
    "    diferenca = cv2.absdiff(img1, img2)\n",
    "    # diferenca = img1-img2\n",
    "\n",
    "    \n",
    "    cv2.imshow(\"Diferenças\", diferenca)\n",
    "    cv2.imwrite(f\"{pasta_saida}/pecas_faltando.png\", diferenca)\n",
    "    cv2.waitKey(0)\n",
    "    cv2.destroyAllWindows()"
   ]
  },
  {
   "cell_type": "code",
   "execution_count": 52,
   "metadata": {},
   "outputs": [],
   "source": [
    "path='C:/Users/arman/codigos_github/machine-learning-dx/machinelearning/'\n",
    "img1= path+'img1.jpg'\n",
    "img2= path+'img2.jpg'\n",
    "detectar_pecas_faltando(img1,img2,path)\n"
   ]
  }
 ],
 "metadata": {
  "kernelspec": {
   "display_name": "ml_aplicada",
   "language": "python",
   "name": "python3"
  },
  "language_info": {
   "codemirror_mode": {
    "name": "ipython",
    "version": 3
   },
   "file_extension": ".py",
   "mimetype": "text/x-python",
   "name": "python",
   "nbconvert_exporter": "python",
   "pygments_lexer": "ipython3",
   "version": "3.13.1"
  }
 },
 "nbformat": 4,
 "nbformat_minor": 2
}
