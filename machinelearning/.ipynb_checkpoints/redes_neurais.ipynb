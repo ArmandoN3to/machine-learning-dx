{
 "cells": [
  {
   "cell_type": "code",
   "execution_count": 2,
   "id": "e88e8d22-6899-48d5-93ec-4660479ba985",
   "metadata": {},
   "outputs": [],
   "source": [
    "import numpy as np\n",
    "import keras\n",
    "import tensorflow.keras as tk \n",
    "import keras.datasets as ds\n",
    "from keras import layers\n",
    "from datetime import  datetime\n",
    "\n"
   ]
  },
  {
   "cell_type": "code",
   "execution_count": 3,
   "id": "a01e679d-f2e2-46b0-a3d7-f7fbfa97c7b4",
   "metadata": {},
   "outputs": [],
   "source": [
    "logdir='log/scalars/' + datetime.now().strftime('%Y%m%d - %H%M%S') "
   ]
  },
  {
   "cell_type": "code",
   "execution_count": 4,
   "id": "a2559d3f-39d3-4771-bda5-44a1b675cdd4",
   "metadata": {},
   "outputs": [],
   "source": [
    "%load_ext tensorboard"
   ]
  },
  {
   "cell_type": "code",
   "execution_count": 5,
   "id": "2a1fff5a-ff42-4d55-a032-82e8b8b795e7",
   "metadata": {},
   "outputs": [],
   "source": [
    "tensorboard_callback = keras.callbacks.TensorBoard(log_dir = logdir)"
   ]
  },
  {
   "cell_type": "code",
   "execution_count": 6,
   "id": "277cc864-c81e-4ab7-af4b-cdb2899726b9",
   "metadata": {},
   "outputs": [],
   "source": [
    "num_classes = 10\n",
    "input_shape = (28,28,1)"
   ]
  },
  {
   "cell_type": "code",
   "execution_count": 7,
   "id": "a874da0f-098b-49d3-ba92-b260ac8fdac8",
   "metadata": {},
   "outputs": [],
   "source": [
    "mnist=tk.datasets.mnist"
   ]
  },
  {
   "cell_type": "code",
   "execution_count": 8,
   "id": "e7aa31d3-6c00-4c43-ade8-43c29536ed8e",
   "metadata": {},
   "outputs": [
    {
     "name": "stdout",
     "output_type": "stream",
     "text": [
      "Downloading data from https://storage.googleapis.com/tensorflow/tf-keras-datasets/mnist.npz\n",
      "11490434/11490434 [==============================] - 5s 0us/step\n"
     ]
    }
   ],
   "source": [
    "(X_train,y_train), (X_test,y_test)=mnist.load_data()"
   ]
  },
  {
   "cell_type": "code",
   "execution_count": 9,
   "id": "5c4d0bcc-a72c-4dbb-8757-a223dc4c8ebd",
   "metadata": {},
   "outputs": [
    {
     "data": {
      "text/plain": [
       "((60000, 28, 28), (60000,), (10000, 28, 28), (10000,))"
      ]
     },
     "execution_count": 9,
     "metadata": {},
     "output_type": "execute_result"
    }
   ],
   "source": [
    "X_train.shape,y_train.shape, X_test.shape,y_test.shape"
   ]
  },
  {
   "cell_type": "code",
   "execution_count": 10,
   "id": "afe85c16-3173-4c1d-ad6a-e8d35fe491d6",
   "metadata": {},
   "outputs": [],
   "source": [
    "X_train=X_train.astype(\"float32\")/255.\n",
    "X_test =X_test.astype(\"float32\")/255."
   ]
  },
  {
   "cell_type": "code",
   "execution_count": 11,
   "id": "e67a221d-9f1b-4455-a275-e0d150cb950d",
   "metadata": {},
   "outputs": [],
   "source": [
    "X_train=np.expand_dims(X_train,-1)\n",
    "X_test = np.expand_dims(X_test,-1)"
   ]
  },
  {
   "cell_type": "code",
   "execution_count": 12,
   "id": "52656fc7-cc42-4dc6-bf98-b0d48603d6e2",
   "metadata": {},
   "outputs": [],
   "source": [
    "y_train= keras.utils.to_categorical(y_train,num_classes)\n",
    "y_test = keras.utils.to_categorical(y_test,num_classes)"
   ]
  },
  {
   "cell_type": "code",
   "execution_count": 13,
   "id": "cd32b6db-c9a4-40c6-9098-6fe95a978c6e",
   "metadata": {},
   "outputs": [],
   "source": [
    "modelo = keras.Sequential(\n",
    "    [\n",
    "        keras.Input(shape=input_shape),\n",
    "        layers.Conv2D(32,kernel_size=(3,3),activation= 'relu'),\n",
    "        layers.MaxPooling2D(pool_size = (2,2)),\n",
    "        layers.Conv2D(64,kernel_size=(3,3),activation= 'relu'),\n",
    "        layers.MaxPooling2D(pool_size = (2,2)),\n",
    "        layers.Flatten(),\n",
    "        layers.Dense(num_classes,activation='softmax')\n",
    "        \n",
    "    ])"
   ]
  },
  {
   "cell_type": "code",
   "execution_count": 15,
   "id": "0826991d-518e-48d1-802e-6ff517f796b8",
   "metadata": {},
   "outputs": [],
   "source": [
    "batch_size=100\n",
    "epochs=20"
   ]
  },
  {
   "cell_type": "code",
   "execution_count": 16,
   "id": "13f671e0-ea80-4ed4-b65c-0a2a98dba127",
   "metadata": {},
   "outputs": [],
   "source": [
    "modelo.compile(loss='categorical_crossentropy',optimizer='adam',\n",
    "               metrics=['accuracy'])"
   ]
  },
  {
   "cell_type": "code",
   "execution_count": 17,
   "id": "d43f234d-316c-4ae7-bce9-cce86cd53afa",
   "metadata": {},
   "outputs": [
    {
     "name": "stdout",
     "output_type": "stream",
     "text": [
      "Epoch 1/20\n",
      "540/540 [==============================] - 9s 16ms/step - loss: 0.2706 - accuracy: 0.9221 - val_loss: 0.0789 - val_accuracy: 0.9780\n",
      "Epoch 2/20\n",
      "540/540 [==============================] - 9s 16ms/step - loss: 0.0756 - accuracy: 0.9768 - val_loss: 0.0531 - val_accuracy: 0.9858\n",
      "Epoch 3/20\n",
      "540/540 [==============================] - 9s 16ms/step - loss: 0.0564 - accuracy: 0.9830 - val_loss: 0.0543 - val_accuracy: 0.9843\n",
      "Epoch 4/20\n",
      "540/540 [==============================] - 9s 16ms/step - loss: 0.0446 - accuracy: 0.9863 - val_loss: 0.0384 - val_accuracy: 0.9897\n",
      "Epoch 5/20\n",
      "540/540 [==============================] - 9s 16ms/step - loss: 0.0369 - accuracy: 0.9889 - val_loss: 0.0412 - val_accuracy: 0.9885\n",
      "Epoch 6/20\n",
      "540/540 [==============================] - 9s 16ms/step - loss: 0.0319 - accuracy: 0.9896 - val_loss: 0.0443 - val_accuracy: 0.9873\n",
      "Epoch 7/20\n",
      "540/540 [==============================] - 9s 16ms/step - loss: 0.0279 - accuracy: 0.9912 - val_loss: 0.0383 - val_accuracy: 0.9892\n",
      "Epoch 8/20\n",
      "540/540 [==============================] - 9s 16ms/step - loss: 0.0238 - accuracy: 0.9926 - val_loss: 0.0346 - val_accuracy: 0.9897\n",
      "Epoch 9/20\n",
      "540/540 [==============================] - 9s 16ms/step - loss: 0.0198 - accuracy: 0.9937 - val_loss: 0.0385 - val_accuracy: 0.9900\n",
      "Epoch 10/20\n",
      "540/540 [==============================] - 9s 17ms/step - loss: 0.0166 - accuracy: 0.9945 - val_loss: 0.0403 - val_accuracy: 0.9887\n",
      "Epoch 11/20\n",
      "540/540 [==============================] - 10s 19ms/step - loss: 0.0150 - accuracy: 0.9953 - val_loss: 0.0473 - val_accuracy: 0.9890\n",
      "Epoch 12/20\n",
      "540/540 [==============================] - 12s 23ms/step - loss: 0.0127 - accuracy: 0.9959 - val_loss: 0.0361 - val_accuracy: 0.9908\n",
      "Epoch 13/20\n",
      "540/540 [==============================] - 11s 20ms/step - loss: 0.0105 - accuracy: 0.9964 - val_loss: 0.0368 - val_accuracy: 0.9920\n",
      "Epoch 14/20\n",
      "540/540 [==============================] - 9s 16ms/step - loss: 0.0095 - accuracy: 0.9968 - val_loss: 0.0357 - val_accuracy: 0.9908\n",
      "Epoch 15/20\n",
      "540/540 [==============================] - 9s 16ms/step - loss: 0.0075 - accuracy: 0.9976 - val_loss: 0.0485 - val_accuracy: 0.9888\n",
      "Epoch 16/20\n",
      "540/540 [==============================] - 9s 16ms/step - loss: 0.0066 - accuracy: 0.9981 - val_loss: 0.0516 - val_accuracy: 0.9897\n",
      "Epoch 17/20\n",
      "540/540 [==============================] - 9s 16ms/step - loss: 0.0073 - accuracy: 0.9974 - val_loss: 0.0482 - val_accuracy: 0.9890\n",
      "Epoch 18/20\n",
      "540/540 [==============================] - 9s 16ms/step - loss: 0.0045 - accuracy: 0.9986 - val_loss: 0.0464 - val_accuracy: 0.9897\n",
      "Epoch 19/20\n",
      "540/540 [==============================] - 9s 17ms/step - loss: 0.0041 - accuracy: 0.9988 - val_loss: 0.0507 - val_accuracy: 0.9900\n",
      "Epoch 20/20\n",
      "540/540 [==============================] - 9s 16ms/step - loss: 0.0049 - accuracy: 0.9983 - val_loss: 0.0466 - val_accuracy: 0.9908\n"
     ]
    }
   ],
   "source": [
    "training_history = modelo.fit(X_train,\n",
    "                              y_train,\n",
    "                              batch_size= batch_size,\n",
    "                              epochs = epochs,\n",
    "                              validation_split=0.1,\n",
    "                              callbacks=[tensorboard_callback]\n",
    "                             )"
   ]
  },
  {
   "cell_type": "code",
   "execution_count": 18,
   "id": "8d6e0fe6-3080-40a5-a092-004003e2550c",
   "metadata": {},
   "outputs": [],
   "source": [
    "modelo.save('mnist_20_epochs.keras')"
   ]
  },
  {
   "cell_type": "code",
   "execution_count": 19,
   "id": "8e14963a",
   "metadata": {},
   "outputs": [
    {
     "data": {
      "text/html": [
       "\n",
       "      <iframe id=\"tensorboard-frame-589c37455013ee41\" width=\"100%\" height=\"800\" frameborder=\"0\">\n",
       "      </iframe>\n",
       "      <script>\n",
       "        (function() {\n",
       "          const frame = document.getElementById(\"tensorboard-frame-589c37455013ee41\");\n",
       "          const url = new URL(\"/\", window.location);\n",
       "          const port = 6607;\n",
       "          if (port) {\n",
       "            url.port = port;\n",
       "          }\n",
       "          frame.src = url;\n",
       "        })();\n",
       "      </script>\n",
       "    "
      ],
      "text/plain": [
       "<IPython.core.display.HTML object>"
      ]
     },
     "metadata": {},
     "output_type": "display_data"
    }
   ],
   "source": [
    "%tensorboard --logdir logs/scalars --port 6607"
   ]
  }
 ],
 "metadata": {
  "kernelspec": {
   "display_name": "turma2",
   "language": "python",
   "name": "python3"
  },
  "language_info": {
   "codemirror_mode": {
    "name": "ipython",
    "version": 3
   },
   "file_extension": ".py",
   "mimetype": "text/x-python",
   "name": "python",
   "nbconvert_exporter": "python",
   "pygments_lexer": "ipython3",
   "version": "3.10.15"
  }
 },
 "nbformat": 4,
 "nbformat_minor": 5
}
