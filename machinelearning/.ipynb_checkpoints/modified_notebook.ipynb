{
    "cells": [
        {
            "cell_type": "code",
            "execution_count": 2,
            "metadata": {},
            "outputs": [],
            "source": [
                "import cv2\n",
                "import numpy as np"
            ]
        },
        {
            "cell_type": "code",
            "execution_count": 3,
            "metadata": {},
            "outputs": [],
            "source": [
                "\n",
                "k1=np.array([[-1,-1,-1],\n",
                "             [-1,9,-1],\n",
                "             [-1,-1,-1]])\n",
                "k2=np.array([[1,0,0],\n",
                "             [0,0,0],\n",
                "             [0,0,-1]])\n",
                "\n",
                "k3=np.array([[0,0,0],\n",
                "             [0,1,0],\n",
                "             [0,0,0]])\n",
                "\n",
                "k4=np.array([[0,-1,0],\n",
                "             [-1,5,-1],\n",
                "             [0,-1,0]])\n",
                "\n",
                "k5=np.array([[0,1,0],\n",
                "             [1,-4,1],\n",
                "             [0,1,0]])\n",
                "\n",
                "k6=np.array([[1,0,-1],\n",
                "             [0,0,0],\n",
                "             [-1,0,1]])\n",
                "\n",
                "k7=np.array([[-1,0,1],\n",
                "             [-2,0,2],\n",
                "             [-1,0,1]])\n"
            ]
        },
        {
            "cell_type": "code",
            "execution_count": 4,
            "metadata": {},
            "outputs": [],
            "source": [
                "def filtercam():\n",
                "    captura=cv2.VideoCapture(0)\n",
                "    count=1\n",
                "    filtro=0\n",
                "    if captura.isOpened():\n",
                "        ret,frame=captura.read()\n",
                "    else:\n",
                "        ret=False\n",
                "    while ret:\n",
                "        ret,frame=captura.read()\n",
                "\n",
                "        if frame is not None:\n",
                "\n",
                "            if filtro == 1:\n",
                "                frame = cv2.filter2D(frame, -1, k1)\n",
                "            elif filtro == 2:\n",
                "                frame = cv2.filter2D(frame, -1, k2)\n",
                "            elif filtro == 3:\n",
                "                frame = cv2.filter2D(frame, -1, k3)\n",
                "            elif filtro == 4:\n",
                "                frame = cv2.filter2D(frame, -1, k4)\n",
                "            elif filtro == 5:\n",
                "                frame = cv2.filter2D(frame, -1, k5)\n",
                "            elif filtro == 6:\n",
                "                frame = cv2.filter2D(frame, -1, k6)\n",
                "            elif filtro == 7:\n",
                "                frame = cv2.filter2D(frame, -1, k7)\n",
                "\n",
                "            cv2.imshow('Video', frame)\n",
                "            key= cv2.waitKey(1) & 0xFF\n",
                "\n",
                "            if key == ord('1'):  \n",
                "                filtro = 1\n",
                "            elif key == ord('2'):  \n",
                "                filtro = 2\n",
                "            elif key == ord('3'):  \n",
                "                filtro = 3\n",
                "            elif key == ord('4'):  \n",
                "                filtro = 4\n",
                "            elif key == ord('5'):  \n",
                "                filtro = 5\n",
                "            elif key == ord('6'):  \n",
                "                filtro = 6\n",
                "            elif key == ord('7'):\n",
                "                filtro = 7\n",
                "            elif key == ord('0'):  \n",
                "                filtro = 0\n",
                "\n",
                "            if key == ord('q'):\n",
                "                break\n",
                "\n",
                "    cv2.destroyAllWindows()\n",
                "    captura.release()"
            ]
        },
        {
            "cell_type": "code",
            "metadata": {},
            "execution_count": null,
            "source": [
                "\nimport os\n\n# Kernels para os filtros\nkernels = {\n    \"1\": np.array([[-1, -1, -1], [-1, 9, -1], [-1, -1, -1]]),\n    \"2\": np.array([[1, 0, 0], [0, 0, 0], [0, 0, -1]]),\n    \"3\": np.array([[0, 0, 0], [0, 1, 0], [0, 0, 0]]),\n    \"4\": np.array([[0, -1, 0], [-1, 5, -1], [0, -1, 0]]),\n    \"5\": np.array([[0, 1, 0], [1, -4, 1], [0, 1, 0]]),\n    \"6\": np.array([[1, 0, -1], [0, 0, 0], [-1, 0, 1]])\n}\n\n# Fun\u00e7\u00e3o para aplicar filtro\ndef apply_filter(image, kernel):\n    return cv2.filter2D(image, -1, kernel)\n\n# Fun\u00e7\u00e3o para processar v\u00eddeo\ndef process_video(file_path, output_dir):\n    os.makedirs(output_dir, exist_ok=True)\n    cap = cv2.VideoCapture(file_path)\n    frame_count = 0\n    while cap.isOpened():\n        ret, frame = cap.read()\n        if not ret:\n            break\n        cv2.imwrite(f\"{output_dir}/frame_{frame_count:04d}.png\", frame)\n        frame_count += 1\n    cap.release()\n\n# Webcam com filtros\ndef process_webcam(output_dir):\n    os.makedirs(output_dir, exist_ok=True)\n    cap = cv2.VideoCapture(0)\n    while True:\n        ret, frame = cap.read()\n        if not ret:\n            break\n        cv2.imshow(\"Webcam\", frame)\n        key = cv2.waitKey(1) & 0xFF\n        if key in [ord(str(i)) for i in range(1, 7)]:\n            filtered_frame = apply_filter(frame, kernels[chr(key)])\n            cv2.imshow(\"Filtered\", filtered_frame)\n            cv2.imwrite(f\"{output_dir}/filtered_{chr(key)}.png\", filtered_frame)\n        if key == ord(\"q\"):\n            break\n    cap.release()\n    cv2.destroyAllWindows()\n"
            ],
            "outputs": []
        },
        {
            "cell_type": "code",
            "metadata": {},
            "execution_count": null,
            "source": [
                "\n# Fun\u00e7\u00e3o para redimensionar frames\ndef resize_frame(image, scale, interpolation):\n    width = int(image.shape[1] * scale / 100)\n    height = int(image.shape[0] * scale / 100)\n    return cv2.resize(image, (width, height), interpolation=interpolation)\n\n# Mapeamento de teclas para interpola\u00e7\u00e3o\ninterpolations = {\n    \"N\": cv2.INTER_NEAREST,\n    \"L\": cv2.INTER_LINEAR,\n    \"A\": cv2.INTER_AREA,\n    \"C\": cv2.INTER_CUBIC,\n    \"Z\": cv2.INTER_LANCZOS4\n}\n\n# Fun\u00e7\u00e3o principal para redimensionamento\ndef resize_with_controls(source, output_dir):\n    os.makedirs(output_dir, exist_ok=True)\n    cap = cv2.VideoCapture(0 if source == \"webcam\" else source)\n    scale = 10\n    interpolation = cv2.INTER_NEAREST\n    while True:\n        ret, frame = cap.read()\n        if not ret:\n            break\n        resized_frame = resize_frame(frame, scale, interpolation)\n        cv2.imshow(\"Resized\", resized_frame)\n        key = cv2.waitKey(1) & 0xFF\n        if key == ord(\"+\") and scale < 50:\n            scale += 10\n        elif key == ord(\"-\") and scale > 10:\n            scale -= 10\n        elif chr(key).upper() in interpolations:\n            interpolation = interpolations[chr(key).upper()]\n        elif key == ord(\"q\"):\n            break\n        cv2.imwrite(f\"{output_dir}/frame_{scale}_{key}.png\", resized_frame)\n    cap.release()\n    cv2.destroyAllWindows()\n"
            ],
            "outputs": []
        },
        {
            "cell_type": "code",
            "metadata": {},
            "execution_count": null,
            "source": [
                "\ndef detect_missing_items(image1_path, image2_path):\n    img1 = cv2.imread(image1_path, cv2.IMREAD_GRAYSCALE)\n    img2 = cv2.imread(image2_path, cv2.IMREAD_GRAYSCALE)\n    diff = cv2.absdiff(img1, img2)\n    _, thresh = cv2.threshold(diff, 50, 255, cv2.THRESH_BINARY)\n    cv2.imshow(\"Missing Items\", thresh)\n    cv2.imwrite(\"missing_items_detected.png\", thresh)\n    cv2.waitKey(0)\n    cv2.destroyAllWindows()\n"
            ],
            "outputs": []
        }
    ],
    "metadata": {
        "kernelspec": {
            "display_name": "ml_aplicada",
            "language": "python",
            "name": "python3"
        },
        "language_info": {
            "codemirror_mode": {
                "name": "ipython",
                "version": 3
            },
            "file_extension": ".py",
            "mimetype": "text/x-python",
            "name": "python",
            "nbconvert_exporter": "python",
            "pygments_lexer": "ipython3",
            "version": "3.13.1"
        }
    },
    "nbformat": 4,
    "nbformat_minor": 2
}