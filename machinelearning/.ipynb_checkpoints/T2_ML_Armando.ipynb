{
 "cells": [
  {
   "cell_type": "code",
   "execution_count": 2,
   "id": "17c5e602-16a7-49a6-91a1-de28ca22a0fc",
   "metadata": {
    "executionInfo": {
     "elapsed": 951,
     "status": "ok",
     "timestamp": 1736522045897,
     "user": {
      "displayName": "Marcio Brener Cantúaria Santo",
      "userId": "07376327226569149700"
     },
     "user_tz": 240
    },
    "id": "17c5e602-16a7-49a6-91a1-de28ca22a0fc"
   },
   "outputs": [],
   "source": [
    "import numpy as np\n",
    "import pandas as pd\n",
    "import matplotlib.pyplot as plt\n",
    "import seaborn as sns"
   ]
  },
  {
   "cell_type": "code",
   "execution_count": 3,
   "id": "ef795ac9-d2d8-4795-8afe-e87ae0872643",
   "metadata": {
    "executionInfo": {
     "elapsed": 43,
     "status": "ok",
     "timestamp": 1736520698123,
     "user": {
      "displayName": "Marcio Brener Cantúaria Santo",
      "userId": "07376327226569149700"
     },
     "user_tz": 240
    },
    "id": "ef795ac9-d2d8-4795-8afe-e87ae0872643"
   },
   "outputs": [],
   "source": [
    "path = 'D:/MANUAL/codigos/datasets/'"
   ]
  },
  {
   "cell_type": "markdown",
   "id": "3ad01fdb-d36d-4904-99bb-9a93bdac29be",
   "metadata": {
    "id": "3ad01fdb-d36d-4904-99bb-9a93bdac29be"
   },
   "source": [
    "# Aluguel resindecial"
   ]
  },
  {
   "cell_type": "code",
   "execution_count": 5,
   "id": "d9070947-0782-4ee1-93a7-69c9805ab547",
   "metadata": {
    "executionInfo": {
     "elapsed": 39,
     "status": "ok",
     "timestamp": 1736520698123,
     "user": {
      "displayName": "Marcio Brener Cantúaria Santo",
      "userId": "07376327226569149700"
     },
     "user_tz": 240
    },
    "id": "d9070947-0782-4ee1-93a7-69c9805ab547"
   },
   "outputs": [],
   "source": [
    "aluguel_residencial = pd.read_csv(path + 'aluguel_residencial.csv', sep=';')"
   ]
  },
  {
   "cell_type": "code",
   "execution_count": 6,
   "id": "4569622f-d0e0-41a9-80b2-aff179f31ae3",
   "metadata": {
    "colab": {
     "base_uri": "https://localhost:8080/",
     "height": 424
    },
    "executionInfo": {
     "elapsed": 37,
     "status": "ok",
     "timestamp": 1736520698123,
     "user": {
      "displayName": "Marcio Brener Cantúaria Santo",
      "userId": "07376327226569149700"
     },
     "user_tz": 240
    },
    "id": "4569622f-d0e0-41a9-80b2-aff179f31ae3",
    "outputId": "27d9d1aa-c04f-4a6b-871f-d70f04452a66"
   },
   "outputs": [
    {
     "data": {
      "text/html": [
       "<div>\n",
       "<style scoped>\n",
       "    .dataframe tbody tr th:only-of-type {\n",
       "        vertical-align: middle;\n",
       "    }\n",
       "\n",
       "    .dataframe tbody tr th {\n",
       "        vertical-align: top;\n",
       "    }\n",
       "\n",
       "    .dataframe thead th {\n",
       "        text-align: right;\n",
       "    }\n",
       "</style>\n",
       "<table border=\"1\" class=\"dataframe\">\n",
       "  <thead>\n",
       "    <tr style=\"text-align: right;\">\n",
       "      <th></th>\n",
       "      <th>Tipo</th>\n",
       "      <th>Bairro</th>\n",
       "      <th>Quartos</th>\n",
       "      <th>Vagas</th>\n",
       "      <th>Suites</th>\n",
       "      <th>Area</th>\n",
       "      <th>Valor</th>\n",
       "      <th>Condominio</th>\n",
       "      <th>IPTU</th>\n",
       "    </tr>\n",
       "  </thead>\n",
       "  <tbody>\n",
       "    <tr>\n",
       "      <th>0</th>\n",
       "      <td>Quitinete</td>\n",
       "      <td>Copacabana</td>\n",
       "      <td>1</td>\n",
       "      <td>0</td>\n",
       "      <td>0</td>\n",
       "      <td>40</td>\n",
       "      <td>1700.0</td>\n",
       "      <td>500.0</td>\n",
       "      <td>60.0</td>\n",
       "    </tr>\n",
       "    <tr>\n",
       "      <th>1</th>\n",
       "      <td>Casa</td>\n",
       "      <td>Jardim Botânico</td>\n",
       "      <td>2</td>\n",
       "      <td>0</td>\n",
       "      <td>1</td>\n",
       "      <td>100</td>\n",
       "      <td>7000.0</td>\n",
       "      <td>NaN</td>\n",
       "      <td>NaN</td>\n",
       "    </tr>\n",
       "    <tr>\n",
       "      <th>2</th>\n",
       "      <td>Apartamento</td>\n",
       "      <td>Centro</td>\n",
       "      <td>1</td>\n",
       "      <td>0</td>\n",
       "      <td>0</td>\n",
       "      <td>15</td>\n",
       "      <td>800.0</td>\n",
       "      <td>390.0</td>\n",
       "      <td>20.0</td>\n",
       "    </tr>\n",
       "    <tr>\n",
       "      <th>3</th>\n",
       "      <td>Apartamento</td>\n",
       "      <td>Higienópolis</td>\n",
       "      <td>1</td>\n",
       "      <td>0</td>\n",
       "      <td>0</td>\n",
       "      <td>48</td>\n",
       "      <td>800.0</td>\n",
       "      <td>230.0</td>\n",
       "      <td>NaN</td>\n",
       "    </tr>\n",
       "    <tr>\n",
       "      <th>4</th>\n",
       "      <td>Apartamento</td>\n",
       "      <td>Vista Alegre</td>\n",
       "      <td>3</td>\n",
       "      <td>1</td>\n",
       "      <td>0</td>\n",
       "      <td>70</td>\n",
       "      <td>1200.0</td>\n",
       "      <td>NaN</td>\n",
       "      <td>NaN</td>\n",
       "    </tr>\n",
       "    <tr>\n",
       "      <th>...</th>\n",
       "      <td>...</td>\n",
       "      <td>...</td>\n",
       "      <td>...</td>\n",
       "      <td>...</td>\n",
       "      <td>...</td>\n",
       "      <td>...</td>\n",
       "      <td>...</td>\n",
       "      <td>...</td>\n",
       "      <td>...</td>\n",
       "    </tr>\n",
       "    <tr>\n",
       "      <th>22575</th>\n",
       "      <td>Apartamento</td>\n",
       "      <td>Méier</td>\n",
       "      <td>2</td>\n",
       "      <td>0</td>\n",
       "      <td>0</td>\n",
       "      <td>70</td>\n",
       "      <td>900.0</td>\n",
       "      <td>490.0</td>\n",
       "      <td>48.0</td>\n",
       "    </tr>\n",
       "    <tr>\n",
       "      <th>22576</th>\n",
       "      <td>Quitinete</td>\n",
       "      <td>Centro</td>\n",
       "      <td>0</td>\n",
       "      <td>0</td>\n",
       "      <td>0</td>\n",
       "      <td>27</td>\n",
       "      <td>800.0</td>\n",
       "      <td>350.0</td>\n",
       "      <td>25.0</td>\n",
       "    </tr>\n",
       "    <tr>\n",
       "      <th>22577</th>\n",
       "      <td>Apartamento</td>\n",
       "      <td>Jacarepaguá</td>\n",
       "      <td>3</td>\n",
       "      <td>1</td>\n",
       "      <td>2</td>\n",
       "      <td>78</td>\n",
       "      <td>1800.0</td>\n",
       "      <td>800.0</td>\n",
       "      <td>40.0</td>\n",
       "    </tr>\n",
       "    <tr>\n",
       "      <th>22578</th>\n",
       "      <td>Apartamento</td>\n",
       "      <td>São Francisco Xavier</td>\n",
       "      <td>2</td>\n",
       "      <td>1</td>\n",
       "      <td>0</td>\n",
       "      <td>48</td>\n",
       "      <td>1400.0</td>\n",
       "      <td>509.0</td>\n",
       "      <td>37.0</td>\n",
       "    </tr>\n",
       "    <tr>\n",
       "      <th>22579</th>\n",
       "      <td>Apartamento</td>\n",
       "      <td>Leblon</td>\n",
       "      <td>2</td>\n",
       "      <td>0</td>\n",
       "      <td>0</td>\n",
       "      <td>70</td>\n",
       "      <td>3000.0</td>\n",
       "      <td>760.0</td>\n",
       "      <td>NaN</td>\n",
       "    </tr>\n",
       "  </tbody>\n",
       "</table>\n",
       "<p>22580 rows × 9 columns</p>\n",
       "</div>"
      ],
      "text/plain": [
       "              Tipo                Bairro  Quartos  Vagas  Suites  Area  \\\n",
       "0        Quitinete            Copacabana        1      0       0    40   \n",
       "1             Casa       Jardim Botânico        2      0       1   100   \n",
       "2      Apartamento                Centro        1      0       0    15   \n",
       "3      Apartamento          Higienópolis        1      0       0    48   \n",
       "4      Apartamento          Vista Alegre        3      1       0    70   \n",
       "...            ...                   ...      ...    ...     ...   ...   \n",
       "22575  Apartamento                 Méier        2      0       0    70   \n",
       "22576    Quitinete                Centro        0      0       0    27   \n",
       "22577  Apartamento           Jacarepaguá        3      1       2    78   \n",
       "22578  Apartamento  São Francisco Xavier        2      1       0    48   \n",
       "22579  Apartamento                Leblon        2      0       0    70   \n",
       "\n",
       "        Valor  Condominio  IPTU  \n",
       "0      1700.0       500.0  60.0  \n",
       "1      7000.0         NaN   NaN  \n",
       "2       800.0       390.0  20.0  \n",
       "3       800.0       230.0   NaN  \n",
       "4      1200.0         NaN   NaN  \n",
       "...       ...         ...   ...  \n",
       "22575   900.0       490.0  48.0  \n",
       "22576   800.0       350.0  25.0  \n",
       "22577  1800.0       800.0  40.0  \n",
       "22578  1400.0       509.0  37.0  \n",
       "22579  3000.0       760.0   NaN  \n",
       "\n",
       "[22580 rows x 9 columns]"
      ]
     },
     "execution_count": 6,
     "metadata": {},
     "output_type": "execute_result"
    }
   ],
   "source": [
    "aluguel_residencial"
   ]
  },
  {
   "cell_type": "markdown",
   "id": "6f2156c8-4c5c-4e29-8307-995bc4657ec3",
   "metadata": {
    "id": "6f2156c8-4c5c-4e29-8307-995bc4657ec3"
   },
   "source": [
    "### Imports"
   ]
  },
  {
   "cell_type": "code",
   "execution_count": 7,
   "id": "4228cd6a-92a7-4e35-8908-bd3004aadc4e",
   "metadata": {
    "executionInfo": {
     "elapsed": 34,
     "status": "ok",
     "timestamp": 1736520698124,
     "user": {
      "displayName": "Marcio Brener Cantúaria Santo",
      "userId": "07376327226569149700"
     },
     "user_tz": 240
    },
    "id": "4228cd6a-92a7-4e35-8908-bd3004aadc4e"
   },
   "outputs": [],
   "source": [
    "from sklearn.linear_model import LogisticRegression\n",
    "from sklearn.tree import DecisionTreeRegressor\n",
    "from sklearn.ensemble import RandomForestRegressor\n",
    "from sklearn.linear_model import LinearRegression\n",
    "from sklearn.metrics import mean_squared_error, r2_score\n",
    "from sklearn.model_selection import train_test_split\n",
    "from sklearn.preprocessing import LabelEncoder\n",
    "from sklearn.preprocessing import StandardScaler"
   ]
  },
  {
   "cell_type": "markdown",
   "id": "5f5176b1-96a5-4a46-a9b3-1c3cf7d1cbf3",
   "metadata": {
    "id": "5f5176b1-96a5-4a46-a9b3-1c3cf7d1cbf3"
   },
   "source": [
    "# Transforms"
   ]
  },
  {
   "cell_type": "code",
   "execution_count": 8,
   "id": "f7cacc75-be03-427c-8a31-6614ed8835aa",
   "metadata": {
    "executionInfo": {
     "elapsed": 33,
     "status": "ok",
     "timestamp": 1736520698124,
     "user": {
      "displayName": "Marcio Brener Cantúaria Santo",
      "userId": "07376327226569149700"
     },
     "user_tz": 240
    },
    "id": "f7cacc75-be03-427c-8a31-6614ed8835aa"
   },
   "outputs": [],
   "source": [
    "labelenconder_tipo = LabelEncoder()\n",
    "labelenconder_bairro = LabelEncoder()"
   ]
  },
  {
   "cell_type": "code",
   "execution_count": 9,
   "id": "8dbed0f1-d469-4d90-ac16-8afdaf8d9682",
   "metadata": {
    "executionInfo": {
     "elapsed": 32,
     "status": "ok",
     "timestamp": 1736520698124,
     "user": {
      "displayName": "Marcio Brener Cantúaria Santo",
      "userId": "07376327226569149700"
     },
     "user_tz": 240
    },
    "id": "8dbed0f1-d469-4d90-ac16-8afdaf8d9682"
   },
   "outputs": [],
   "source": [
    "aluguel_residencial['Tipo'] = labelenconder_tipo.fit_transform(aluguel_residencial['Tipo'])\n",
    "aluguel_residencial['Bairro'] = labelenconder_bairro.fit_transform(aluguel_residencial['Bairro'])"
   ]
  },
  {
   "cell_type": "code",
   "execution_count": 10,
   "id": "ab8982ee-9e57-43dd-ace0-54d213eb80ad",
   "metadata": {
    "colab": {
     "base_uri": "https://localhost:8080/",
     "height": 424
    },
    "executionInfo": {
     "elapsed": 31,
     "status": "ok",
     "timestamp": 1736520698124,
     "user": {
      "displayName": "Marcio Brener Cantúaria Santo",
      "userId": "07376327226569149700"
     },
     "user_tz": 240
    },
    "id": "ab8982ee-9e57-43dd-ace0-54d213eb80ad",
    "outputId": "0ae24fd6-4564-42fb-af02-da5b2428131c"
   },
   "outputs": [
    {
     "data": {
      "text/html": [
       "<div>\n",
       "<style scoped>\n",
       "    .dataframe tbody tr th:only-of-type {\n",
       "        vertical-align: middle;\n",
       "    }\n",
       "\n",
       "    .dataframe tbody tr th {\n",
       "        vertical-align: top;\n",
       "    }\n",
       "\n",
       "    .dataframe thead th {\n",
       "        text-align: right;\n",
       "    }\n",
       "</style>\n",
       "<table border=\"1\" class=\"dataframe\">\n",
       "  <thead>\n",
       "    <tr style=\"text-align: right;\">\n",
       "      <th></th>\n",
       "      <th>Tipo</th>\n",
       "      <th>Bairro</th>\n",
       "      <th>Quartos</th>\n",
       "      <th>Vagas</th>\n",
       "      <th>Suites</th>\n",
       "      <th>Area</th>\n",
       "      <th>Valor</th>\n",
       "      <th>Condominio</th>\n",
       "      <th>IPTU</th>\n",
       "    </tr>\n",
       "  </thead>\n",
       "  <tbody>\n",
       "    <tr>\n",
       "      <th>0</th>\n",
       "      <td>4</td>\n",
       "      <td>32</td>\n",
       "      <td>1</td>\n",
       "      <td>0</td>\n",
       "      <td>0</td>\n",
       "      <td>40</td>\n",
       "      <td>1700.0</td>\n",
       "      <td>500.0</td>\n",
       "      <td>60.0</td>\n",
       "    </tr>\n",
       "    <tr>\n",
       "      <th>1</th>\n",
       "      <td>1</td>\n",
       "      <td>69</td>\n",
       "      <td>2</td>\n",
       "      <td>0</td>\n",
       "      <td>1</td>\n",
       "      <td>100</td>\n",
       "      <td>7000.0</td>\n",
       "      <td>NaN</td>\n",
       "      <td>NaN</td>\n",
       "    </tr>\n",
       "    <tr>\n",
       "      <th>2</th>\n",
       "      <td>0</td>\n",
       "      <td>26</td>\n",
       "      <td>1</td>\n",
       "      <td>0</td>\n",
       "      <td>0</td>\n",
       "      <td>15</td>\n",
       "      <td>800.0</td>\n",
       "      <td>390.0</td>\n",
       "      <td>20.0</td>\n",
       "    </tr>\n",
       "    <tr>\n",
       "      <th>3</th>\n",
       "      <td>0</td>\n",
       "      <td>55</td>\n",
       "      <td>1</td>\n",
       "      <td>0</td>\n",
       "      <td>0</td>\n",
       "      <td>48</td>\n",
       "      <td>800.0</td>\n",
       "      <td>230.0</td>\n",
       "      <td>NaN</td>\n",
       "    </tr>\n",
       "    <tr>\n",
       "      <th>4</th>\n",
       "      <td>0</td>\n",
       "      <td>151</td>\n",
       "      <td>3</td>\n",
       "      <td>1</td>\n",
       "      <td>0</td>\n",
       "      <td>70</td>\n",
       "      <td>1200.0</td>\n",
       "      <td>NaN</td>\n",
       "      <td>NaN</td>\n",
       "    </tr>\n",
       "    <tr>\n",
       "      <th>...</th>\n",
       "      <td>...</td>\n",
       "      <td>...</td>\n",
       "      <td>...</td>\n",
       "      <td>...</td>\n",
       "      <td>...</td>\n",
       "      <td>...</td>\n",
       "      <td>...</td>\n",
       "      <td>...</td>\n",
       "      <td>...</td>\n",
       "    </tr>\n",
       "    <tr>\n",
       "      <th>22575</th>\n",
       "      <td>0</td>\n",
       "      <td>88</td>\n",
       "      <td>2</td>\n",
       "      <td>0</td>\n",
       "      <td>0</td>\n",
       "      <td>70</td>\n",
       "      <td>900.0</td>\n",
       "      <td>490.0</td>\n",
       "      <td>48.0</td>\n",
       "    </tr>\n",
       "    <tr>\n",
       "      <th>22576</th>\n",
       "      <td>4</td>\n",
       "      <td>26</td>\n",
       "      <td>0</td>\n",
       "      <td>0</td>\n",
       "      <td>0</td>\n",
       "      <td>27</td>\n",
       "      <td>800.0</td>\n",
       "      <td>350.0</td>\n",
       "      <td>25.0</td>\n",
       "    </tr>\n",
       "    <tr>\n",
       "      <th>22577</th>\n",
       "      <td>0</td>\n",
       "      <td>66</td>\n",
       "      <td>3</td>\n",
       "      <td>1</td>\n",
       "      <td>2</td>\n",
       "      <td>78</td>\n",
       "      <td>1800.0</td>\n",
       "      <td>800.0</td>\n",
       "      <td>40.0</td>\n",
       "    </tr>\n",
       "    <tr>\n",
       "      <th>22578</th>\n",
       "      <td>0</td>\n",
       "      <td>130</td>\n",
       "      <td>2</td>\n",
       "      <td>1</td>\n",
       "      <td>0</td>\n",
       "      <td>48</td>\n",
       "      <td>1400.0</td>\n",
       "      <td>509.0</td>\n",
       "      <td>37.0</td>\n",
       "    </tr>\n",
       "    <tr>\n",
       "      <th>22579</th>\n",
       "      <td>0</td>\n",
       "      <td>79</td>\n",
       "      <td>2</td>\n",
       "      <td>0</td>\n",
       "      <td>0</td>\n",
       "      <td>70</td>\n",
       "      <td>3000.0</td>\n",
       "      <td>760.0</td>\n",
       "      <td>NaN</td>\n",
       "    </tr>\n",
       "  </tbody>\n",
       "</table>\n",
       "<p>22580 rows × 9 columns</p>\n",
       "</div>"
      ],
      "text/plain": [
       "       Tipo  Bairro  Quartos  Vagas  Suites  Area   Valor  Condominio  IPTU\n",
       "0         4      32        1      0       0    40  1700.0       500.0  60.0\n",
       "1         1      69        2      0       1   100  7000.0         NaN   NaN\n",
       "2         0      26        1      0       0    15   800.0       390.0  20.0\n",
       "3         0      55        1      0       0    48   800.0       230.0   NaN\n",
       "4         0     151        3      1       0    70  1200.0         NaN   NaN\n",
       "...     ...     ...      ...    ...     ...   ...     ...         ...   ...\n",
       "22575     0      88        2      0       0    70   900.0       490.0  48.0\n",
       "22576     4      26        0      0       0    27   800.0       350.0  25.0\n",
       "22577     0      66        3      1       2    78  1800.0       800.0  40.0\n",
       "22578     0     130        2      1       0    48  1400.0       509.0  37.0\n",
       "22579     0      79        2      0       0    70  3000.0       760.0   NaN\n",
       "\n",
       "[22580 rows x 9 columns]"
      ]
     },
     "execution_count": 10,
     "metadata": {},
     "output_type": "execute_result"
    }
   ],
   "source": [
    "aluguel_residencial"
   ]
  },
  {
   "cell_type": "markdown",
   "id": "dfea0b37-a749-4ab3-bb6a-6fefffb9a988",
   "metadata": {
    "id": "dfea0b37-a749-4ab3-bb6a-6fefffb9a988"
   },
   "source": [
    "#### Valores nulos"
   ]
  },
  {
   "cell_type": "code",
   "execution_count": 11,
   "id": "abfe643c-47be-44bb-bd61-0a4b22ea7383",
   "metadata": {
    "colab": {
     "base_uri": "https://localhost:8080/"
    },
    "executionInfo": {
     "elapsed": 29,
     "status": "ok",
     "timestamp": 1736520698125,
     "user": {
      "displayName": "Marcio Brener Cantúaria Santo",
      "userId": "07376327226569149700"
     },
     "user_tz": 240
    },
    "id": "abfe643c-47be-44bb-bd61-0a4b22ea7383",
    "outputId": "06ae83b9-dc0b-48eb-f3fd-697406e5a99e"
   },
   "outputs": [
    {
     "name": "stdout",
     "output_type": "stream",
     "text": [
      "Tipo             0\n",
      "Bairro           0\n",
      "Quartos          0\n",
      "Vagas            0\n",
      "Suites           0\n",
      "Area             0\n",
      "Valor            9\n",
      "Condominio    1815\n",
      "IPTU          6785\n",
      "dtype: int64\n"
     ]
    }
   ],
   "source": [
    "nulos = aluguel_residencial.isna().sum()\n",
    "print(nulos)"
   ]
  },
  {
   "cell_type": "code",
   "execution_count": 12,
   "id": "cab088a4-e1b5-4bc7-81e3-6a94007e07d8",
   "metadata": {
    "colab": {
     "base_uri": "https://localhost:8080/"
    },
    "executionInfo": {
     "elapsed": 26,
     "status": "ok",
     "timestamp": 1736520698125,
     "user": {
      "displayName": "Marcio Brener Cantúaria Santo",
      "userId": "07376327226569149700"
     },
     "user_tz": 240
    },
    "id": "cab088a4-e1b5-4bc7-81e3-6a94007e07d8",
    "outputId": "61c0c8ee-cc5e-4304-ccc4-b0518627407b"
   },
   "outputs": [
    {
     "name": "stderr",
     "output_type": "stream",
     "text": [
      "C:\\Users\\arman\\AppData\\Local\\Temp\\ipykernel_20672\\2139420110.py:1: FutureWarning: A value is trying to be set on a copy of a DataFrame or Series through chained assignment using an inplace method.\n",
      "The behavior will change in pandas 3.0. This inplace method will never work because the intermediate object on which we are setting values always behaves as a copy.\n",
      "\n",
      "For example, when doing 'df[col].method(value, inplace=True)', try using 'df.method({col: value}, inplace=True)' or df[col] = df[col].method(value) instead, to perform the operation inplace on the original object.\n",
      "\n",
      "\n",
      "  aluguel_residencial['Condominio'].fillna(int(aluguel_residencial['Condominio'].median()), inplace = True)\n",
      "C:\\Users\\arman\\AppData\\Local\\Temp\\ipykernel_20672\\2139420110.py:2: FutureWarning: A value is trying to be set on a copy of a DataFrame or Series through chained assignment using an inplace method.\n",
      "The behavior will change in pandas 3.0. This inplace method will never work because the intermediate object on which we are setting values always behaves as a copy.\n",
      "\n",
      "For example, when doing 'df[col].method(value, inplace=True)', try using 'df.method({col: value}, inplace=True)' or df[col] = df[col].method(value) instead, to perform the operation inplace on the original object.\n",
      "\n",
      "\n",
      "  aluguel_residencial['Valor'].fillna(int(aluguel_residencial['Valor'].median()), inplace = True)\n",
      "C:\\Users\\arman\\AppData\\Local\\Temp\\ipykernel_20672\\2139420110.py:3: FutureWarning: A value is trying to be set on a copy of a DataFrame or Series through chained assignment using an inplace method.\n",
      "The behavior will change in pandas 3.0. This inplace method will never work because the intermediate object on which we are setting values always behaves as a copy.\n",
      "\n",
      "For example, when doing 'df[col].method(value, inplace=True)', try using 'df.method({col: value}, inplace=True)' or df[col] = df[col].method(value) instead, to perform the operation inplace on the original object.\n",
      "\n",
      "\n",
      "  aluguel_residencial['IPTU'].fillna(int(aluguel_residencial['IPTU'].median()), inplace = True)\n"
     ]
    }
   ],
   "source": [
    "aluguel_residencial['Condominio'].fillna(int(aluguel_residencial['Condominio'].median()), inplace = True)\n",
    "aluguel_residencial['Valor'].fillna(int(aluguel_residencial['Valor'].median()), inplace = True)\n",
    "aluguel_residencial['IPTU'].fillna(int(aluguel_residencial['IPTU'].median()), inplace = True)"
   ]
  },
  {
   "cell_type": "code",
   "execution_count": 13,
   "id": "1b0f2e96-582b-4bbb-8b5e-d4bc5aeee7cf",
   "metadata": {
    "colab": {
     "base_uri": "https://localhost:8080/"
    },
    "executionInfo": {
     "elapsed": 21,
     "status": "ok",
     "timestamp": 1736520698125,
     "user": {
      "displayName": "Marcio Brener Cantúaria Santo",
      "userId": "07376327226569149700"
     },
     "user_tz": 240
    },
    "id": "1b0f2e96-582b-4bbb-8b5e-d4bc5aeee7cf",
    "outputId": "0348a6df-a167-4a75-ba54-dca21f2985d2"
   },
   "outputs": [
    {
     "name": "stdout",
     "output_type": "stream",
     "text": [
      "Tipo          0\n",
      "Bairro        0\n",
      "Quartos       0\n",
      "Vagas         0\n",
      "Suites        0\n",
      "Area          0\n",
      "Valor         0\n",
      "Condominio    0\n",
      "IPTU          0\n",
      "dtype: int64\n"
     ]
    }
   ],
   "source": [
    "nulos = aluguel_residencial.isna().sum()\n",
    "print(nulos)"
   ]
  },
  {
   "cell_type": "code",
   "execution_count": 14,
   "id": "c6c82f98-f559-4b48-8719-252f45ac9497",
   "metadata": {
    "colab": {
     "base_uri": "https://localhost:8080/",
     "height": 424
    },
    "executionInfo": {
     "elapsed": 353,
     "status": "ok",
     "timestamp": 1736520698461,
     "user": {
      "displayName": "Marcio Brener Cantúaria Santo",
      "userId": "07376327226569149700"
     },
     "user_tz": 240
    },
    "id": "c6c82f98-f559-4b48-8719-252f45ac9497",
    "outputId": "a54d7297-02a5-4e51-9ccb-e6d2096f4d44"
   },
   "outputs": [
    {
     "data": {
      "text/html": [
       "<div>\n",
       "<style scoped>\n",
       "    .dataframe tbody tr th:only-of-type {\n",
       "        vertical-align: middle;\n",
       "    }\n",
       "\n",
       "    .dataframe tbody tr th {\n",
       "        vertical-align: top;\n",
       "    }\n",
       "\n",
       "    .dataframe thead th {\n",
       "        text-align: right;\n",
       "    }\n",
       "</style>\n",
       "<table border=\"1\" class=\"dataframe\">\n",
       "  <thead>\n",
       "    <tr style=\"text-align: right;\">\n",
       "      <th></th>\n",
       "      <th>Tipo</th>\n",
       "      <th>Bairro</th>\n",
       "      <th>Quartos</th>\n",
       "      <th>Vagas</th>\n",
       "      <th>Suites</th>\n",
       "      <th>Area</th>\n",
       "      <th>Valor</th>\n",
       "      <th>Condominio</th>\n",
       "      <th>IPTU</th>\n",
       "    </tr>\n",
       "  </thead>\n",
       "  <tbody>\n",
       "    <tr>\n",
       "      <th>0</th>\n",
       "      <td>4</td>\n",
       "      <td>32</td>\n",
       "      <td>1</td>\n",
       "      <td>0</td>\n",
       "      <td>0</td>\n",
       "      <td>40</td>\n",
       "      <td>1700.0</td>\n",
       "      <td>500.0</td>\n",
       "      <td>60.0</td>\n",
       "    </tr>\n",
       "    <tr>\n",
       "      <th>1</th>\n",
       "      <td>1</td>\n",
       "      <td>69</td>\n",
       "      <td>2</td>\n",
       "      <td>0</td>\n",
       "      <td>1</td>\n",
       "      <td>100</td>\n",
       "      <td>7000.0</td>\n",
       "      <td>940.0</td>\n",
       "      <td>220.0</td>\n",
       "    </tr>\n",
       "    <tr>\n",
       "      <th>2</th>\n",
       "      <td>0</td>\n",
       "      <td>26</td>\n",
       "      <td>1</td>\n",
       "      <td>0</td>\n",
       "      <td>0</td>\n",
       "      <td>15</td>\n",
       "      <td>800.0</td>\n",
       "      <td>390.0</td>\n",
       "      <td>20.0</td>\n",
       "    </tr>\n",
       "    <tr>\n",
       "      <th>3</th>\n",
       "      <td>0</td>\n",
       "      <td>55</td>\n",
       "      <td>1</td>\n",
       "      <td>0</td>\n",
       "      <td>0</td>\n",
       "      <td>48</td>\n",
       "      <td>800.0</td>\n",
       "      <td>230.0</td>\n",
       "      <td>220.0</td>\n",
       "    </tr>\n",
       "    <tr>\n",
       "      <th>4</th>\n",
       "      <td>0</td>\n",
       "      <td>151</td>\n",
       "      <td>3</td>\n",
       "      <td>1</td>\n",
       "      <td>0</td>\n",
       "      <td>70</td>\n",
       "      <td>1200.0</td>\n",
       "      <td>940.0</td>\n",
       "      <td>220.0</td>\n",
       "    </tr>\n",
       "    <tr>\n",
       "      <th>...</th>\n",
       "      <td>...</td>\n",
       "      <td>...</td>\n",
       "      <td>...</td>\n",
       "      <td>...</td>\n",
       "      <td>...</td>\n",
       "      <td>...</td>\n",
       "      <td>...</td>\n",
       "      <td>...</td>\n",
       "      <td>...</td>\n",
       "    </tr>\n",
       "    <tr>\n",
       "      <th>22575</th>\n",
       "      <td>0</td>\n",
       "      <td>88</td>\n",
       "      <td>2</td>\n",
       "      <td>0</td>\n",
       "      <td>0</td>\n",
       "      <td>70</td>\n",
       "      <td>900.0</td>\n",
       "      <td>490.0</td>\n",
       "      <td>48.0</td>\n",
       "    </tr>\n",
       "    <tr>\n",
       "      <th>22576</th>\n",
       "      <td>4</td>\n",
       "      <td>26</td>\n",
       "      <td>0</td>\n",
       "      <td>0</td>\n",
       "      <td>0</td>\n",
       "      <td>27</td>\n",
       "      <td>800.0</td>\n",
       "      <td>350.0</td>\n",
       "      <td>25.0</td>\n",
       "    </tr>\n",
       "    <tr>\n",
       "      <th>22577</th>\n",
       "      <td>0</td>\n",
       "      <td>66</td>\n",
       "      <td>3</td>\n",
       "      <td>1</td>\n",
       "      <td>2</td>\n",
       "      <td>78</td>\n",
       "      <td>1800.0</td>\n",
       "      <td>800.0</td>\n",
       "      <td>40.0</td>\n",
       "    </tr>\n",
       "    <tr>\n",
       "      <th>22578</th>\n",
       "      <td>0</td>\n",
       "      <td>130</td>\n",
       "      <td>2</td>\n",
       "      <td>1</td>\n",
       "      <td>0</td>\n",
       "      <td>48</td>\n",
       "      <td>1400.0</td>\n",
       "      <td>509.0</td>\n",
       "      <td>37.0</td>\n",
       "    </tr>\n",
       "    <tr>\n",
       "      <th>22579</th>\n",
       "      <td>0</td>\n",
       "      <td>79</td>\n",
       "      <td>2</td>\n",
       "      <td>0</td>\n",
       "      <td>0</td>\n",
       "      <td>70</td>\n",
       "      <td>3000.0</td>\n",
       "      <td>760.0</td>\n",
       "      <td>220.0</td>\n",
       "    </tr>\n",
       "  </tbody>\n",
       "</table>\n",
       "<p>22580 rows × 9 columns</p>\n",
       "</div>"
      ],
      "text/plain": [
       "       Tipo  Bairro  Quartos  Vagas  Suites  Area   Valor  Condominio   IPTU\n",
       "0         4      32        1      0       0    40  1700.0       500.0   60.0\n",
       "1         1      69        2      0       1   100  7000.0       940.0  220.0\n",
       "2         0      26        1      0       0    15   800.0       390.0   20.0\n",
       "3         0      55        1      0       0    48   800.0       230.0  220.0\n",
       "4         0     151        3      1       0    70  1200.0       940.0  220.0\n",
       "...     ...     ...      ...    ...     ...   ...     ...         ...    ...\n",
       "22575     0      88        2      0       0    70   900.0       490.0   48.0\n",
       "22576     4      26        0      0       0    27   800.0       350.0   25.0\n",
       "22577     0      66        3      1       2    78  1800.0       800.0   40.0\n",
       "22578     0     130        2      1       0    48  1400.0       509.0   37.0\n",
       "22579     0      79        2      0       0    70  3000.0       760.0  220.0\n",
       "\n",
       "[22580 rows x 9 columns]"
      ]
     },
     "execution_count": 14,
     "metadata": {},
     "output_type": "execute_result"
    }
   ],
   "source": [
    "aluguel_residencial"
   ]
  },
  {
   "cell_type": "code",
   "execution_count": 16,
   "id": "57b65a76-2799-4f67-a010-a567783050dd",
   "metadata": {
    "colab": {
     "base_uri": "https://localhost:8080/"
    },
    "executionInfo": {
     "elapsed": 23,
     "status": "ok",
     "timestamp": 1736520701325,
     "user": {
      "displayName": "Marcio Brener Cantúaria Santo",
      "userId": "07376327226569149700"
     },
     "user_tz": 240
    },
    "id": "57b65a76-2799-4f67-a010-a567783050dd",
    "outputId": "42bd1774-ba1b-4929-b5bc-7ba7e22e046c"
   },
   "outputs": [
    {
     "name": "stdout",
     "output_type": "stream",
     "text": [
      "<class 'pandas.core.frame.DataFrame'>\n",
      "RangeIndex: 22580 entries, 0 to 22579\n",
      "Data columns (total 9 columns):\n",
      " #   Column      Non-Null Count  Dtype  \n",
      "---  ------      --------------  -----  \n",
      " 0   Tipo        22580 non-null  int64  \n",
      " 1   Bairro      22580 non-null  int64  \n",
      " 2   Quartos     22580 non-null  int64  \n",
      " 3   Vagas       22580 non-null  int64  \n",
      " 4   Suites      22580 non-null  int64  \n",
      " 5   Area        22580 non-null  int64  \n",
      " 6   Valor       22580 non-null  float64\n",
      " 7   Condominio  22580 non-null  float64\n",
      " 8   IPTU        22580 non-null  float64\n",
      "dtypes: float64(3), int64(6)\n",
      "memory usage: 1.6 MB\n"
     ]
    }
   ],
   "source": [
    "aluguel_residencial.info()"
   ]
  },
  {
   "cell_type": "markdown",
   "id": "3897d352-b234-441a-853a-323dbb7d6c10",
   "metadata": {
    "id": "3897d352-b234-441a-853a-323dbb7d6c10"
   },
   "source": [
    "# Distribuição normal de valores"
   ]
  },
  {
   "cell_type": "code",
   "execution_count": 17,
   "id": "25bd17c4-8c36-4639-bc2c-413f09d80d49",
   "metadata": {
    "executionInfo": {
     "elapsed": 19,
     "status": "ok",
     "timestamp": 1736520701325,
     "user": {
      "displayName": "Marcio Brener Cantúaria Santo",
      "userId": "07376327226569149700"
     },
     "user_tz": 240
    },
    "id": "25bd17c4-8c36-4639-bc2c-413f09d80d49"
   },
   "outputs": [],
   "source": [
    "from sklearn.preprocessing import StandardScaler"
   ]
  },
  {
   "cell_type": "code",
   "execution_count": 19,
   "id": "0b2ed6f9-dd5c-4654-81b6-924e5864b2be",
   "metadata": {
    "executionInfo": {
     "elapsed": 18,
     "status": "ok",
     "timestamp": 1736520701325,
     "user": {
      "displayName": "Marcio Brener Cantúaria Santo",
      "userId": "07376327226569149700"
     },
     "user_tz": 240
    },
    "id": "0b2ed6f9-dd5c-4654-81b6-924e5864b2be"
   },
   "outputs": [],
   "source": [
    "scaler = StandardScaler()"
   ]
  },
  {
   "cell_type": "code",
   "execution_count": 20,
   "id": "a0ad990c-1536-42fc-9581-b034352b2269",
   "metadata": {
    "executionInfo": {
     "elapsed": 18,
     "status": "ok",
     "timestamp": 1736520701325,
     "user": {
      "displayName": "Marcio Brener Cantúaria Santo",
      "userId": "07376327226569149700"
     },
     "user_tz": 240
    },
    "id": "a0ad990c-1536-42fc-9581-b034352b2269"
   },
   "outputs": [],
   "source": [
    "aluguel_residencial['Valor'] = scaler.fit_transform(aluguel_residencial[['Valor']])\n",
    "aluguel_residencial['Condominio'] = scaler.fit_transform(aluguel_residencial[['Condominio']])\n",
    "#aluguel_residencial['IPTU'] = scaler.fit_transform(aluguel_residencial[['IPTU']])"
   ]
  },
  {
   "cell_type": "code",
   "execution_count": 21,
   "id": "431c0a1a-2d7c-4e04-9648-5ee9e4cd039a",
   "metadata": {
    "colab": {
     "base_uri": "https://localhost:8080/",
     "height": 424
    },
    "executionInfo": {
     "elapsed": 18,
     "status": "ok",
     "timestamp": 1736520701325,
     "user": {
      "displayName": "Marcio Brener Cantúaria Santo",
      "userId": "07376327226569149700"
     },
     "user_tz": 240
    },
    "id": "431c0a1a-2d7c-4e04-9648-5ee9e4cd039a",
    "outputId": "25a63901-7489-4c60-d704-fee21fa9ca61"
   },
   "outputs": [
    {
     "data": {
      "text/html": [
       "<div>\n",
       "<style scoped>\n",
       "    .dataframe tbody tr th:only-of-type {\n",
       "        vertical-align: middle;\n",
       "    }\n",
       "\n",
       "    .dataframe tbody tr th {\n",
       "        vertical-align: top;\n",
       "    }\n",
       "\n",
       "    .dataframe thead th {\n",
       "        text-align: right;\n",
       "    }\n",
       "</style>\n",
       "<table border=\"1\" class=\"dataframe\">\n",
       "  <thead>\n",
       "    <tr style=\"text-align: right;\">\n",
       "      <th></th>\n",
       "      <th>Tipo</th>\n",
       "      <th>Bairro</th>\n",
       "      <th>Quartos</th>\n",
       "      <th>Vagas</th>\n",
       "      <th>Suites</th>\n",
       "      <th>Area</th>\n",
       "      <th>Valor</th>\n",
       "      <th>Condominio</th>\n",
       "      <th>IPTU</th>\n",
       "    </tr>\n",
       "  </thead>\n",
       "  <tbody>\n",
       "    <tr>\n",
       "      <th>0</th>\n",
       "      <td>4</td>\n",
       "      <td>32</td>\n",
       "      <td>1</td>\n",
       "      <td>0</td>\n",
       "      <td>0</td>\n",
       "      <td>40</td>\n",
       "      <td>-0.101245</td>\n",
       "      <td>-0.024821</td>\n",
       "      <td>60.0</td>\n",
       "    </tr>\n",
       "    <tr>\n",
       "      <th>1</th>\n",
       "      <td>1</td>\n",
       "      <td>69</td>\n",
       "      <td>2</td>\n",
       "      <td>0</td>\n",
       "      <td>1</td>\n",
       "      <td>100</td>\n",
       "      <td>0.062112</td>\n",
       "      <td>-0.014767</td>\n",
       "      <td>220.0</td>\n",
       "    </tr>\n",
       "    <tr>\n",
       "      <th>2</th>\n",
       "      <td>0</td>\n",
       "      <td>26</td>\n",
       "      <td>1</td>\n",
       "      <td>0</td>\n",
       "      <td>0</td>\n",
       "      <td>15</td>\n",
       "      <td>-0.128985</td>\n",
       "      <td>-0.027334</td>\n",
       "      <td>20.0</td>\n",
       "    </tr>\n",
       "    <tr>\n",
       "      <th>3</th>\n",
       "      <td>0</td>\n",
       "      <td>55</td>\n",
       "      <td>1</td>\n",
       "      <td>0</td>\n",
       "      <td>0</td>\n",
       "      <td>48</td>\n",
       "      <td>-0.128985</td>\n",
       "      <td>-0.030990</td>\n",
       "      <td>220.0</td>\n",
       "    </tr>\n",
       "    <tr>\n",
       "      <th>4</th>\n",
       "      <td>0</td>\n",
       "      <td>151</td>\n",
       "      <td>3</td>\n",
       "      <td>1</td>\n",
       "      <td>0</td>\n",
       "      <td>70</td>\n",
       "      <td>-0.116656</td>\n",
       "      <td>-0.014767</td>\n",
       "      <td>220.0</td>\n",
       "    </tr>\n",
       "    <tr>\n",
       "      <th>...</th>\n",
       "      <td>...</td>\n",
       "      <td>...</td>\n",
       "      <td>...</td>\n",
       "      <td>...</td>\n",
       "      <td>...</td>\n",
       "      <td>...</td>\n",
       "      <td>...</td>\n",
       "      <td>...</td>\n",
       "      <td>...</td>\n",
       "    </tr>\n",
       "    <tr>\n",
       "      <th>22575</th>\n",
       "      <td>0</td>\n",
       "      <td>88</td>\n",
       "      <td>2</td>\n",
       "      <td>0</td>\n",
       "      <td>0</td>\n",
       "      <td>70</td>\n",
       "      <td>-0.125902</td>\n",
       "      <td>-0.025049</td>\n",
       "      <td>48.0</td>\n",
       "    </tr>\n",
       "    <tr>\n",
       "      <th>22576</th>\n",
       "      <td>4</td>\n",
       "      <td>26</td>\n",
       "      <td>0</td>\n",
       "      <td>0</td>\n",
       "      <td>0</td>\n",
       "      <td>27</td>\n",
       "      <td>-0.128985</td>\n",
       "      <td>-0.028248</td>\n",
       "      <td>25.0</td>\n",
       "    </tr>\n",
       "    <tr>\n",
       "      <th>22577</th>\n",
       "      <td>0</td>\n",
       "      <td>66</td>\n",
       "      <td>3</td>\n",
       "      <td>1</td>\n",
       "      <td>2</td>\n",
       "      <td>78</td>\n",
       "      <td>-0.098163</td>\n",
       "      <td>-0.017966</td>\n",
       "      <td>40.0</td>\n",
       "    </tr>\n",
       "    <tr>\n",
       "      <th>22578</th>\n",
       "      <td>0</td>\n",
       "      <td>130</td>\n",
       "      <td>2</td>\n",
       "      <td>1</td>\n",
       "      <td>0</td>\n",
       "      <td>48</td>\n",
       "      <td>-0.110491</td>\n",
       "      <td>-0.024615</td>\n",
       "      <td>37.0</td>\n",
       "    </tr>\n",
       "    <tr>\n",
       "      <th>22579</th>\n",
       "      <td>0</td>\n",
       "      <td>79</td>\n",
       "      <td>2</td>\n",
       "      <td>0</td>\n",
       "      <td>0</td>\n",
       "      <td>70</td>\n",
       "      <td>-0.061176</td>\n",
       "      <td>-0.018880</td>\n",
       "      <td>220.0</td>\n",
       "    </tr>\n",
       "  </tbody>\n",
       "</table>\n",
       "<p>22580 rows × 9 columns</p>\n",
       "</div>"
      ],
      "text/plain": [
       "       Tipo  Bairro  Quartos  Vagas  Suites  Area     Valor  Condominio   IPTU\n",
       "0         4      32        1      0       0    40 -0.101245   -0.024821   60.0\n",
       "1         1      69        2      0       1   100  0.062112   -0.014767  220.0\n",
       "2         0      26        1      0       0    15 -0.128985   -0.027334   20.0\n",
       "3         0      55        1      0       0    48 -0.128985   -0.030990  220.0\n",
       "4         0     151        3      1       0    70 -0.116656   -0.014767  220.0\n",
       "...     ...     ...      ...    ...     ...   ...       ...         ...    ...\n",
       "22575     0      88        2      0       0    70 -0.125902   -0.025049   48.0\n",
       "22576     4      26        0      0       0    27 -0.128985   -0.028248   25.0\n",
       "22577     0      66        3      1       2    78 -0.098163   -0.017966   40.0\n",
       "22578     0     130        2      1       0    48 -0.110491   -0.024615   37.0\n",
       "22579     0      79        2      0       0    70 -0.061176   -0.018880  220.0\n",
       "\n",
       "[22580 rows x 9 columns]"
      ]
     },
     "execution_count": 21,
     "metadata": {},
     "output_type": "execute_result"
    }
   ],
   "source": [
    "aluguel_residencial"
   ]
  },
  {
   "cell_type": "code",
   "execution_count": 22,
   "id": "c87201cc-b2fd-4d30-b9f7-ae1f11e67f6a",
   "metadata": {
    "colab": {
     "base_uri": "https://localhost:8080/",
     "height": 459
    },
    "executionInfo": {
     "elapsed": 17,
     "status": "ok",
     "timestamp": 1736520701326,
     "user": {
      "displayName": "Marcio Brener Cantúaria Santo",
      "userId": "07376327226569149700"
     },
     "user_tz": 240
    },
    "id": "c87201cc-b2fd-4d30-b9f7-ae1f11e67f6a",
    "outputId": "3e88f4a1-8176-4fdd-d226-30fd99f32523"
   },
   "outputs": [
    {
     "data": {
      "text/plain": [
       "0       -0.101245\n",
       "1        0.062112\n",
       "2       -0.128985\n",
       "3       -0.128985\n",
       "4       -0.116656\n",
       "           ...   \n",
       "22575   -0.125902\n",
       "22576   -0.128985\n",
       "22577   -0.098163\n",
       "22578   -0.110491\n",
       "22579   -0.061176\n",
       "Name: Valor, Length: 22580, dtype: float64"
      ]
     },
     "execution_count": 22,
     "metadata": {},
     "output_type": "execute_result"
    }
   ],
   "source": [
    "aluguel_residencial['Valor']"
   ]
  },
  {
   "cell_type": "markdown",
   "id": "04db4c83-3a07-47d3-a480-de8ba7e72566",
   "metadata": {
    "id": "04db4c83-3a07-47d3-a480-de8ba7e72566"
   },
   "source": [
    "# 70/30"
   ]
  },
  {
   "cell_type": "code",
   "execution_count": 24,
   "id": "ff0dff66-dfff-480c-b1fa-1bead1461b8e",
   "metadata": {
    "colab": {
     "base_uri": "https://localhost:8080/"
    },
    "executionInfo": {
     "elapsed": 357,
     "status": "ok",
     "timestamp": 1736521515988,
     "user": {
      "displayName": "Marcio Brener Cantúaria Santo",
      "userId": "07376327226569149700"
     },
     "user_tz": 240
    },
    "id": "ff0dff66-dfff-480c-b1fa-1bead1461b8e",
    "outputId": "8ddcd41c-15e4-4d3b-98aa-97443329024f"
   },
   "outputs": [
    {
     "data": {
      "text/plain": [
       "((22580, 8), (22580,))"
      ]
     },
     "execution_count": 24,
     "metadata": {},
     "output_type": "execute_result"
    }
   ],
   "source": [
    "X_aluguel_residencial = aluguel_residencial.drop('IPTU',axis =1 )\n",
    "Y_aluguel_residencial = aluguel_residencial['IPTU']\n",
    "X_aluguel_residencial.shape, Y_aluguel_residencial.shape"
   ]
  },
  {
   "cell_type": "code",
   "execution_count": 25,
   "id": "620e6c12-6da1-4793-8b67-248fa77e2826",
   "metadata": {
    "colab": {
     "base_uri": "https://localhost:8080/"
    },
    "executionInfo": {
     "elapsed": 15,
     "status": "ok",
     "timestamp": 1736520701676,
     "user": {
      "displayName": "Marcio Brener Cantúaria Santo",
      "userId": "07376327226569149700"
     },
     "user_tz": 240
    },
    "id": "620e6c12-6da1-4793-8b67-248fa77e2826",
    "outputId": "0c9d58f5-4206-4a43-e458-6168774f3c2a"
   },
   "outputs": [
    {
     "name": "stdout",
     "output_type": "stream",
     "text": [
      "<class 'pandas.core.frame.DataFrame'>\n",
      "RangeIndex: 22580 entries, 0 to 22579\n",
      "Data columns (total 8 columns):\n",
      " #   Column      Non-Null Count  Dtype  \n",
      "---  ------      --------------  -----  \n",
      " 0   Tipo        22580 non-null  int64  \n",
      " 1   Bairro      22580 non-null  int64  \n",
      " 2   Quartos     22580 non-null  int64  \n",
      " 3   Vagas       22580 non-null  int64  \n",
      " 4   Suites      22580 non-null  int64  \n",
      " 5   Area        22580 non-null  int64  \n",
      " 6   Valor       22580 non-null  float64\n",
      " 7   Condominio  22580 non-null  float64\n",
      "dtypes: float64(2), int64(6)\n",
      "memory usage: 1.4 MB\n"
     ]
    }
   ],
   "source": [
    "X_aluguel_residencial.info()"
   ]
  },
  {
   "cell_type": "code",
   "execution_count": 26,
   "id": "b275b73b-9a58-4171-a67b-81f861a09b13",
   "metadata": {
    "executionInfo": {
     "elapsed": 12,
     "status": "ok",
     "timestamp": 1736520701676,
     "user": {
      "displayName": "Marcio Brener Cantúaria Santo",
      "userId": "07376327226569149700"
     },
     "user_tz": 240
    },
    "id": "b275b73b-9a58-4171-a67b-81f861a09b13"
   },
   "outputs": [],
   "source": [
    "X_train_aluguel_residencial,X_test_aluguel_residencial, Y_train_aluguel_residencial,Y_test_aluguel_residencial = train_test_split(\n",
    "    X_aluguel_residencial,Y_aluguel_residencial,\n",
    "    test_size = 0.30,\n",
    "    random_state = 0\n",
    ")"
   ]
  },
  {
   "cell_type": "code",
   "execution_count": 27,
   "id": "4a4bfcbc-a6d0-44f3-9f92-f7a1b9165def",
   "metadata": {
    "executionInfo": {
     "elapsed": 11,
     "status": "ok",
     "timestamp": 1736520701676,
     "user": {
      "displayName": "Marcio Brener Cantúaria Santo",
      "userId": "07376327226569149700"
     },
     "user_tz": 240
    },
    "id": "4a4bfcbc-a6d0-44f3-9f92-f7a1b9165def"
   },
   "outputs": [],
   "source": [
    "modelos_de_regressao = {\n",
    "    'Linear Regression': LinearRegression(),\n",
    "    'Logistic Regression': LogisticRegression(),\n",
    "    'Random Forest Regressor': RandomForestRegressor(n_estimators=100, random_state = 0),\n",
    "    'Decision Tree Regressor': DecisionTreeRegressor(random_state = 0)\n",
    "}"
   ]
  },
  {
   "cell_type": "markdown",
   "id": "54bd08ff-668b-4303-95be-87e41bb004f1",
   "metadata": {
    "id": "54bd08ff-668b-4303-95be-87e41bb004f1"
   },
   "source": [
    "# Resultados regressão\n"
   ]
  },
  {
   "cell_type": "code",
   "execution_count": 28,
   "id": "45046d84-4e8b-4496-888e-d84cb9277884",
   "metadata": {
    "executionInfo": {
     "elapsed": 11,
     "status": "ok",
     "timestamp": 1736520701676,
     "user": {
      "displayName": "Marcio Brener Cantúaria Santo",
      "userId": "07376327226569149700"
     },
     "user_tz": 240
    },
    "id": "45046d84-4e8b-4496-888e-d84cb9277884"
   },
   "outputs": [],
   "source": [
    "resultados_rg = {\n",
    "    'Modelo': [],\n",
    "    'Score': []\n",
    "}"
   ]
  },
  {
   "cell_type": "code",
   "execution_count": 29,
   "id": "55566710-119b-4b6a-bbe0-2bb927ad0d26",
   "metadata": {
    "colab": {
     "base_uri": "https://localhost:8080/"
    },
    "executionInfo": {
     "elapsed": 93149,
     "status": "ok",
     "timestamp": 1736520794816,
     "user": {
      "displayName": "Marcio Brener Cantúaria Santo",
      "userId": "07376327226569149700"
     },
     "user_tz": 240
    },
    "id": "55566710-119b-4b6a-bbe0-2bb927ad0d26",
    "outputId": "a49d6dd3-403a-427a-e55f-2237cb1c2f7c"
   },
   "outputs": [
    {
     "name": "stdout",
     "output_type": "stream",
     "text": [
      "\n",
      "==== Linear Regression =====\n",
      "MSE:  4249949.584247231\n",
      "r2_score:  0.06918278140798761\n",
      "--------------------------------------------------------------------------------\n"
     ]
    },
    {
     "name": "stderr",
     "output_type": "stream",
     "text": [
      "d:\\MANUAL\\Anaconda3\\envs\\ml_aplicada\\Lib\\site-packages\\sklearn\\linear_model\\_logistic.py:465: ConvergenceWarning: lbfgs failed to converge (status=1):\n",
      "STOP: TOTAL NO. OF ITERATIONS REACHED LIMIT.\n",
      "\n",
      "Increase the number of iterations (max_iter) or scale the data as shown in:\n",
      "    https://scikit-learn.org/stable/modules/preprocessing.html\n",
      "Please also refer to the documentation for alternative solver options:\n",
      "    https://scikit-learn.org/stable/modules/linear_model.html#logistic-regression\n",
      "  n_iter_i = _check_optimize_result(\n"
     ]
    },
    {
     "name": "stdout",
     "output_type": "stream",
     "text": [
      "\n",
      "==== Logistic Regression =====\n",
      "MSE:  4659886.347505167\n",
      "r2_score:  -0.02060091842428946\n",
      "--------------------------------------------------------------------------------\n",
      "\n",
      "==== Random Forest Regressor =====\n",
      "MSE:  9191758.172441496\n",
      "r2_score:  -1.0131642991143481\n",
      "--------------------------------------------------------------------------------\n",
      "\n",
      "==== Decision Tree Regressor =====\n",
      "MSE:  36445174.29959984\n",
      "r2_score:  -6.982164282229561\n",
      "--------------------------------------------------------------------------------\n"
     ]
    }
   ],
   "source": [
    "for nome_modelo, modelo in  modelos_de_regressao.items():\n",
    "    modelo.fit(X_train_aluguel_residencial,Y_train_aluguel_residencial)\n",
    "    y_preds_regression = modelo.predict(X_test_aluguel_residencial)\n",
    "    mse_regression = mean_squared_error(Y_test_aluguel_residencial,y_preds_regression)\n",
    "    r2_score_regression = r2_score(Y_test_aluguel_residencial,y_preds_regression)\n",
    "    resultados_rg['Modelo'].append(nome_modelo)\n",
    "    resultados_rg['Score'].append(r2_score_regression)\n",
    "\n",
    "    print(f'\\n==== {nome_modelo} =====')\n",
    "    print('MSE: ', mse_regression)\n",
    "    print('r2_score: ', r2_score_regression)\n",
    "    print('-' * 80)"
   ]
  },
  {
   "cell_type": "markdown",
   "id": "5f377942",
   "metadata": {},
   "source": [
    "# Classificação"
   ]
  },
  {
   "cell_type": "code",
   "execution_count": 30,
   "id": "lTwjaqrApW5Y",
   "metadata": {
    "executionInfo": {
     "elapsed": 629,
     "status": "ok",
     "timestamp": 1736521560354,
     "user": {
      "displayName": "Marcio Brener Cantúaria Santo",
      "userId": "07376327226569149700"
     },
     "user_tz": 240
    },
    "id": "lTwjaqrApW5Y"
   },
   "outputs": [],
   "source": [
    "diabetes = pd.read_csv(path + 'Diabetes.csv')"
   ]
  },
  {
   "cell_type": "code",
   "execution_count": 31,
   "id": "H9huBL0cvxQm",
   "metadata": {
    "colab": {
     "base_uri": "https://localhost:8080/",
     "height": 424
    },
    "executionInfo": {
     "elapsed": 7,
     "status": "ok",
     "timestamp": 1736521560355,
     "user": {
      "displayName": "Marcio Brener Cantúaria Santo",
      "userId": "07376327226569149700"
     },
     "user_tz": 240
    },
    "id": "H9huBL0cvxQm",
    "outputId": "61155cce-b0dc-48f9-f063-008604e23030"
   },
   "outputs": [
    {
     "data": {
      "text/html": [
       "<div>\n",
       "<style scoped>\n",
       "    .dataframe tbody tr th:only-of-type {\n",
       "        vertical-align: middle;\n",
       "    }\n",
       "\n",
       "    .dataframe tbody tr th {\n",
       "        vertical-align: top;\n",
       "    }\n",
       "\n",
       "    .dataframe thead th {\n",
       "        text-align: right;\n",
       "    }\n",
       "</style>\n",
       "<table border=\"1\" class=\"dataframe\">\n",
       "  <thead>\n",
       "    <tr style=\"text-align: right;\">\n",
       "      <th></th>\n",
       "      <th>Pregnancies</th>\n",
       "      <th>Glucose</th>\n",
       "      <th>BloodPressure</th>\n",
       "      <th>SkinThickness</th>\n",
       "      <th>Insulin</th>\n",
       "      <th>BMI</th>\n",
       "      <th>DiabetesPedigreeFunction</th>\n",
       "      <th>Age</th>\n",
       "      <th>Outcome</th>\n",
       "    </tr>\n",
       "  </thead>\n",
       "  <tbody>\n",
       "    <tr>\n",
       "      <th>0</th>\n",
       "      <td>6</td>\n",
       "      <td>148</td>\n",
       "      <td>72</td>\n",
       "      <td>35</td>\n",
       "      <td>0</td>\n",
       "      <td>33.6</td>\n",
       "      <td>0.627</td>\n",
       "      <td>50</td>\n",
       "      <td>1</td>\n",
       "    </tr>\n",
       "    <tr>\n",
       "      <th>1</th>\n",
       "      <td>1</td>\n",
       "      <td>85</td>\n",
       "      <td>66</td>\n",
       "      <td>29</td>\n",
       "      <td>0</td>\n",
       "      <td>26.6</td>\n",
       "      <td>0.351</td>\n",
       "      <td>31</td>\n",
       "      <td>0</td>\n",
       "    </tr>\n",
       "    <tr>\n",
       "      <th>2</th>\n",
       "      <td>8</td>\n",
       "      <td>183</td>\n",
       "      <td>64</td>\n",
       "      <td>0</td>\n",
       "      <td>0</td>\n",
       "      <td>23.3</td>\n",
       "      <td>0.672</td>\n",
       "      <td>32</td>\n",
       "      <td>1</td>\n",
       "    </tr>\n",
       "    <tr>\n",
       "      <th>3</th>\n",
       "      <td>1</td>\n",
       "      <td>89</td>\n",
       "      <td>66</td>\n",
       "      <td>23</td>\n",
       "      <td>94</td>\n",
       "      <td>28.1</td>\n",
       "      <td>0.167</td>\n",
       "      <td>21</td>\n",
       "      <td>0</td>\n",
       "    </tr>\n",
       "    <tr>\n",
       "      <th>4</th>\n",
       "      <td>0</td>\n",
       "      <td>137</td>\n",
       "      <td>40</td>\n",
       "      <td>35</td>\n",
       "      <td>168</td>\n",
       "      <td>43.1</td>\n",
       "      <td>2.288</td>\n",
       "      <td>33</td>\n",
       "      <td>1</td>\n",
       "    </tr>\n",
       "    <tr>\n",
       "      <th>...</th>\n",
       "      <td>...</td>\n",
       "      <td>...</td>\n",
       "      <td>...</td>\n",
       "      <td>...</td>\n",
       "      <td>...</td>\n",
       "      <td>...</td>\n",
       "      <td>...</td>\n",
       "      <td>...</td>\n",
       "      <td>...</td>\n",
       "    </tr>\n",
       "    <tr>\n",
       "      <th>763</th>\n",
       "      <td>10</td>\n",
       "      <td>101</td>\n",
       "      <td>76</td>\n",
       "      <td>48</td>\n",
       "      <td>180</td>\n",
       "      <td>32.9</td>\n",
       "      <td>0.171</td>\n",
       "      <td>63</td>\n",
       "      <td>0</td>\n",
       "    </tr>\n",
       "    <tr>\n",
       "      <th>764</th>\n",
       "      <td>2</td>\n",
       "      <td>122</td>\n",
       "      <td>70</td>\n",
       "      <td>27</td>\n",
       "      <td>0</td>\n",
       "      <td>36.8</td>\n",
       "      <td>0.340</td>\n",
       "      <td>27</td>\n",
       "      <td>0</td>\n",
       "    </tr>\n",
       "    <tr>\n",
       "      <th>765</th>\n",
       "      <td>5</td>\n",
       "      <td>121</td>\n",
       "      <td>72</td>\n",
       "      <td>23</td>\n",
       "      <td>112</td>\n",
       "      <td>26.2</td>\n",
       "      <td>0.245</td>\n",
       "      <td>30</td>\n",
       "      <td>0</td>\n",
       "    </tr>\n",
       "    <tr>\n",
       "      <th>766</th>\n",
       "      <td>1</td>\n",
       "      <td>126</td>\n",
       "      <td>60</td>\n",
       "      <td>0</td>\n",
       "      <td>0</td>\n",
       "      <td>30.1</td>\n",
       "      <td>0.349</td>\n",
       "      <td>47</td>\n",
       "      <td>1</td>\n",
       "    </tr>\n",
       "    <tr>\n",
       "      <th>767</th>\n",
       "      <td>1</td>\n",
       "      <td>93</td>\n",
       "      <td>70</td>\n",
       "      <td>31</td>\n",
       "      <td>0</td>\n",
       "      <td>30.4</td>\n",
       "      <td>0.315</td>\n",
       "      <td>23</td>\n",
       "      <td>0</td>\n",
       "    </tr>\n",
       "  </tbody>\n",
       "</table>\n",
       "<p>768 rows × 9 columns</p>\n",
       "</div>"
      ],
      "text/plain": [
       "     Pregnancies  Glucose  BloodPressure  SkinThickness  Insulin   BMI  \\\n",
       "0              6      148             72             35        0  33.6   \n",
       "1              1       85             66             29        0  26.6   \n",
       "2              8      183             64              0        0  23.3   \n",
       "3              1       89             66             23       94  28.1   \n",
       "4              0      137             40             35      168  43.1   \n",
       "..           ...      ...            ...            ...      ...   ...   \n",
       "763           10      101             76             48      180  32.9   \n",
       "764            2      122             70             27        0  36.8   \n",
       "765            5      121             72             23      112  26.2   \n",
       "766            1      126             60              0        0  30.1   \n",
       "767            1       93             70             31        0  30.4   \n",
       "\n",
       "     DiabetesPedigreeFunction  Age  Outcome  \n",
       "0                       0.627   50        1  \n",
       "1                       0.351   31        0  \n",
       "2                       0.672   32        1  \n",
       "3                       0.167   21        0  \n",
       "4                       2.288   33        1  \n",
       "..                        ...  ...      ...  \n",
       "763                     0.171   63        0  \n",
       "764                     0.340   27        0  \n",
       "765                     0.245   30        0  \n",
       "766                     0.349   47        1  \n",
       "767                     0.315   23        0  \n",
       "\n",
       "[768 rows x 9 columns]"
      ]
     },
     "execution_count": 31,
     "metadata": {},
     "output_type": "execute_result"
    }
   ],
   "source": [
    "diabetes"
   ]
  },
  {
   "cell_type": "code",
   "execution_count": 32,
   "id": "jFlbBPLuv18B",
   "metadata": {
    "colab": {
     "base_uri": "https://localhost:8080/"
    },
    "executionInfo": {
     "elapsed": 315,
     "status": "ok",
     "timestamp": 1736521597021,
     "user": {
      "displayName": "Marcio Brener Cantúaria Santo",
      "userId": "07376327226569149700"
     },
     "user_tz": 240
    },
    "id": "jFlbBPLuv18B",
    "outputId": "c8059df4-d741-4bb1-815b-8053f9d7bbbf"
   },
   "outputs": [
    {
     "data": {
      "text/plain": [
       "((768, 8), (768,))"
      ]
     },
     "execution_count": 32,
     "metadata": {},
     "output_type": "execute_result"
    }
   ],
   "source": [
    "X_diabetes = diabetes.drop('Outcome',axis =1 )\n",
    "Y_diabetes = diabetes['Outcome']\n",
    "X_diabetes .shape, Y_diabetes.shape"
   ]
  },
  {
   "cell_type": "code",
   "execution_count": 33,
   "id": "mn1966ZlwrB5",
   "metadata": {
    "executionInfo": {
     "elapsed": 335,
     "status": "ok",
     "timestamp": 1736521801330,
     "user": {
      "displayName": "Marcio Brener Cantúaria Santo",
      "userId": "07376327226569149700"
     },
     "user_tz": 240
    },
    "id": "mn1966ZlwrB5"
   },
   "outputs": [],
   "source": [
    "X_train_diabetes,X_test_diabetes, Y_train_diabetes,Y_test_diabetes = train_test_split(\n",
    "    X_diabetes,Y_diabetes,\n",
    "    test_size = 0.20,\n",
    "    random_state = 0\n",
    ")"
   ]
  },
  {
   "cell_type": "code",
   "execution_count": 34,
   "id": "0Jl5XqtztpPC",
   "metadata": {
    "executionInfo": {
     "elapsed": 460,
     "status": "ok",
     "timestamp": 1736521804328,
     "user": {
      "displayName": "Marcio Brener Cantúaria Santo",
      "userId": "07376327226569149700"
     },
     "user_tz": 240
    },
    "id": "0Jl5XqtztpPC"
   },
   "outputs": [],
   "source": [
    "from sklearn.tree import DecisionTreeClassifier\n",
    "from sklearn.ensemble import RandomForestClassifier\n",
    "from sklearn.linear_model import LogisticRegression\n",
    "from sklearn.neighbors import KNeighborsClassifier as KNN\n",
    "from sklearn.svm import SVC\n",
    "from sklearn.metrics import accuracy_score, classification_report, confusion_matrix"
   ]
  },
  {
   "cell_type": "code",
   "execution_count": 36,
   "id": "ZiVbOhtBql4R",
   "metadata": {
    "executionInfo": {
     "elapsed": 330,
     "status": "ok",
     "timestamp": 1736521809084,
     "user": {
      "displayName": "Marcio Brener Cantúaria Santo",
      "userId": "07376327226569149700"
     },
     "user_tz": 240
    },
    "id": "ZiVbOhtBql4R"
   },
   "outputs": [],
   "source": [
    "modelos_classifier = {\n",
    "     'DecisionTreeClassifier': DecisionTreeClassifier(random_state = 0),\n",
    "     'RandomForestClassifier' : RandomForestClassifier(n_estimators = 200,random_state = 0),\n",
    "     'LogisticRegression': LogisticRegression(random_state = 0),\n",
    "     'SVC' : SVC(random_state = 0),\n",
    "     'KNN' : KNN(n_neighbors = 6)\n",
    "}\n",
    "\n",
    "\n"
   ]
  },
  {
   "cell_type": "code",
   "execution_count": 37,
   "id": "FD0hPPh_vaw1",
   "metadata": {
    "executionInfo": {
     "elapsed": 479,
     "status": "ok",
     "timestamp": 1736522071810,
     "user": {
      "displayName": "Marcio Brener Cantúaria Santo",
      "userId": "07376327226569149700"
     },
     "user_tz": 240
    },
    "id": "FD0hPPh_vaw1"
   },
   "outputs": [],
   "source": [
    "resulatdos_classifier = {\n",
    "    'Modelo': [],\n",
    "    'Acuracia': []\n",
    "}"
   ]
  },
  {
   "cell_type": "code",
   "execution_count": null,
   "id": "gLdq6U_OtlBG",
   "metadata": {
    "colab": {
     "base_uri": "https://localhost:8080/"
    },
    "executionInfo": {
     "elapsed": 311,
     "status": "ok",
     "timestamp": 1736522072119,
     "user": {
      "displayName": "Marcio Brener Cantúaria Santo",
      "userId": "07376327226569149700"
     },
     "user_tz": 240
    },
    "id": "gLdq6U_OtlBG",
    "outputId": "8fc31de7-6e33-4942-b978-b617bdc14f3c"
   },
   "outputs": [
    {
     "name": "stdout",
     "output_type": "stream",
     "text": [
      "\n",
      "==== DecisionTreeClassifier =====\n",
      "Acurácia: 0.7662\n",
      "Relatório de classificação\n",
      "              precision    recall  f1-score   support\n",
      "\n",
      "           0       0.84      0.81      0.83       107\n",
      "           1       0.61      0.66      0.63        47\n",
      "\n",
      "    accuracy                           0.77       154\n",
      "   macro avg       0.73      0.74      0.73       154\n",
      "weighted avg       0.77      0.77      0.77       154\n",
      "\n",
      "Matriz de confusão\n",
      "[[87 20]\n",
      " [16 31]]\n",
      "--------------------------------------------------------------------------------\n",
      "\n",
      "==== RandomForestClassifier =====\n",
      "Acurácia: 0.7987\n",
      "Relatório de classificação\n",
      "              precision    recall  f1-score   support\n",
      "\n",
      "           0       0.85      0.87      0.86       107\n",
      "           1       0.68      0.64      0.66        47\n",
      "\n",
      "    accuracy                           0.80       154\n",
      "   macro avg       0.76      0.75      0.76       154\n",
      "weighted avg       0.80      0.80      0.80       154\n",
      "\n",
      "Matriz de confusão\n",
      "[[93 14]\n",
      " [17 30]]\n",
      "--------------------------------------------------------------------------------\n",
      "\n",
      "==== LogisticRegression =====\n",
      "Acurácia: 0.8247\n",
      "Relatório de classificação\n",
      "              precision    recall  f1-score   support\n",
      "\n",
      "           0       0.84      0.92      0.88       107\n",
      "           1       0.76      0.62      0.68        47\n",
      "\n",
      "    accuracy                           0.82       154\n",
      "   macro avg       0.80      0.77      0.78       154\n",
      "weighted avg       0.82      0.82      0.82       154\n",
      "\n",
      "Matriz de confusão\n",
      "[[98  9]\n",
      " [18 29]]\n",
      "--------------------------------------------------------------------------------\n",
      "\n",
      "==== SVC =====\n",
      "Acurácia: 0.7922\n",
      "Relatório de classificação\n",
      "              precision    recall  f1-score   support\n",
      "\n",
      "           0       0.81      0.92      0.86       107\n",
      "           1       0.73      0.51      0.60        47\n",
      "\n",
      "    accuracy                           0.79       154\n",
      "   macro avg       0.77      0.71      0.73       154\n",
      "weighted avg       0.78      0.79      0.78       154\n",
      "\n",
      "Matriz de confusão\n",
      "[[98  9]\n",
      " [23 24]]\n",
      "--------------------------------------------------------------------------------\n",
      "\n",
      "==== KNN =====\n",
      "Acurácia: 0.7792\n",
      "Relatório de classificação\n",
      "              precision    recall  f1-score   support\n",
      "\n",
      "           0       0.82      0.88      0.85       107\n",
      "           1       0.67      0.55      0.60        47\n",
      "\n",
      "    accuracy                           0.78       154\n",
      "   macro avg       0.74      0.72      0.73       154\n",
      "weighted avg       0.77      0.78      0.77       154\n",
      "\n",
      "Matriz de confusão\n",
      "[[94 13]\n",
      " [21 26]]\n",
      "--------------------------------------------------------------------------------\n"
     ]
    },
    {
     "name": "stderr",
     "output_type": "stream",
     "text": [
      "d:\\MANUAL\\Anaconda3\\envs\\ml_aplicada\\Lib\\site-packages\\sklearn\\linear_model\\_logistic.py:465: ConvergenceWarning: lbfgs failed to converge (status=1):\n",
      "STOP: TOTAL NO. OF ITERATIONS REACHED LIMIT.\n",
      "\n",
      "Increase the number of iterations (max_iter) or scale the data as shown in:\n",
      "    https://scikit-learn.org/stable/modules/preprocessing.html\n",
      "Please also refer to the documentation for alternative solver options:\n",
      "    https://scikit-learn.org/stable/modules/linear_model.html#logistic-regression\n",
      "  n_iter_i = _check_optimize_result(\n"
     ]
    }
   ],
   "source": [
    "for nome_modelo, modelo in  modelos_classifier.items():\n",
    "    modelo.fit(X_train_diabetes,Y_train_diabetes)\n",
    "    y_preds_classifier = modelo.predict(X_test_diabetes)\n",
    "    accuracy_classifier = accuracy_score(Y_test_diabetes,y_preds_classifier)\n",
    "    resulatdos_classifier['Modelo'].append(nome_modelo)\n",
    "    resulatdos_classifier['Acuracia'].append(accuracy_classifier)\n",
    "    print(f'\\n==== {nome_modelo} =====')\n",
    "    print(f'Acurácia: {accuracy_classifier:.4f}')\n",
    "    print('Relatório de classificação')\n",
    "    print(classification_report(Y_test_diabetes,y_preds_classifier, zero_division=0))\n",
    "    print('Matriz de confusão')\n",
    "    print(confusion_matrix(Y_test_diabetes,y_preds_classifier))\n",
    "    print('=' * 80)\n"
   ]
  },
  {
   "cell_type": "code",
   "execution_count": 39,
   "id": "PxANbJxnxljK",
   "metadata": {
    "colab": {
     "base_uri": "https://localhost:8080/",
     "height": 667
    },
    "executionInfo": {
     "elapsed": 503,
     "status": "ok",
     "timestamp": 1736522095436,
     "user": {
      "displayName": "Marcio Brener Cantúaria Santo",
      "userId": "07376327226569149700"
     },
     "user_tz": 240
    },
    "id": "PxANbJxnxljK",
    "outputId": "8c8000df-532b-47b3-d85d-dd11365786aa"
   },
   "outputs": [
    {
     "data": {
      "image/png": "[encoded data removed]",
      "text/plain": [
       "<Figure size 1000x600 with 1 Axes>"
      ]
     },
     "metadata": {},
     "output_type": "display_data"
    }
   ],
   "source": [
    "plt.figure(figsize=(10,6))\n",
    "sns.barplot(\n",
    "    data = resulatdos_classifier,\n",
    "    x = 'Modelo',\n",
    "    y = 'Acuracia',\n",
    "    hue = 'Modelo',\n",
    "    palette = 'viridis',\n",
    "    legend = False\n",
    ")\n",
    "\n",
    "plt.title('Comparação de modelos ')\n",
    "for i, v in enumerate(resulatdos_classifier['Acuracia']):\n",
    "    plt.text(i,v + 0.005, f'{v:.3f}', ha = 'center', fontweight = 'bold')\n",
    "plt.xticks(rotation = 40, ha = 'right')\n",
    "##plt.subplots.adjust(bottom = 0.25)\n",
    "plt.show()"
   ]
  }
 ],
 "metadata": {
  "colab": {
   "provenance": []
  },
  "kernelspec": {
   "display_name": "ml_aplicada",
   "language": "python",
   "name": "python3"
  },
  "language_info": {
   "codemirror_mode": {
    "name": "ipython",
    "version": 3
   },
   "file_extension": ".py",
   "mimetype": "text/x-python",
   "name": "python",
   "nbconvert_exporter": "python",
   "pygments_lexer": "ipython3",
   "version": "3.13.1"
  }
 },
 "nbformat": 4,
 "nbformat_minor": 5
}
