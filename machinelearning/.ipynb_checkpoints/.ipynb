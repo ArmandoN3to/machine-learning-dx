{
 "cells": [
  {
   "cell_type": "code",
   "execution_count": 3,
   "metadata": {},
   "outputs": [],
   "source": [
    "import cv2\n",
    "import numpy as np"
   ]
  },
  {
   "cell_type": "code",
   "execution_count": 4,
   "metadata": {},
   "outputs": [],
   "source": [
    "\n",
    "k1=np.array([[-1,-1,-1],\n",
    "             [-1,9,-1],\n",
    "             [-1,-1,-1]])\n",
    "k2=np.array([[1,0,0],\n",
    "             [0,0,0],\n",
    "             [0,0,-1]])\n",
    "\n",
    "k3=np.array([[0,0,0],\n",
    "             [0,1,0],\n",
    "             [0,0,0]])\n",
    "\n",
    "k4=np.array([[0,-1,0],\n",
    "             [-1,5,-1],\n",
    "             [0,-1,0]])\n",
    "\n",
    "k5=np.array([[0,1,0],\n",
    "             [1,-4,1],\n",
    "             [0,1,0]])\n",
    "\n",
    "k6=np.array([[1,0,-1],\n",
    "             [0,0,0],\n",
    "             [-1,0,1]])\n",
    "\n",
    "k7=np.array([[-1,0,1],\n",
    "             [-2,0,2],\n",
    "             [-1,0,1]])\n"
   ]
  },
  {
   "cell_type": "code",
   "execution_count": 5,
   "metadata": {},
   "outputs": [],
   "source": [
    "captura=cv2.VideoCapture(0)\n",
    "count=1\n",
    "filtro=0\n",
    "if captura.isOpened():\n",
    "    ret,frame=captura.read()\n",
    "else:\n",
    "    ret=False\n",
    "while ret:\n",
    "    ret,frame=captura.read()\n",
    "\n",
    "    if frame is not None:\n",
    "\n",
    "        if filtro == 1:\n",
    "            frame = cv2.filter2D(frame, -1, k1)\n",
    "        elif filtro == 2:\n",
    "            frame = cv2.filter2D(frame, -1, k2)\n",
    "        elif filtro == 3:\n",
    "            frame = cv2.filter2D(frame, -1, k3)\n",
    "        elif filtro == 4:\n",
    "            frame = cv2.filter2D(frame, -1, k4)\n",
    "        elif filtro == 5:\n",
    "            frame = cv2.filter2D(frame, -1, k5)\n",
    "        elif filtro == 6:\n",
    "            frame = cv2.filter2D(frame, -1, k6)\n",
    "        elif filtro == 7:\n",
    "            frame = cv2.filter2D(frame, -1, k7)\n",
    "\n",
    "        cv2.imshow('Video', frame)\n",
    "        key= cv2.waitKey(1) & 0xFF\n",
    "\n",
    "        if key == ord('1'):  \n",
    "            filtro = 1\n",
    "        elif key == ord('2'):  \n",
    "            filtro = 2\n",
    "        elif key == ord('3'):  \n",
    "            filtro = 3\n",
    "        elif key == ord('4'):  \n",
    "            filtro = 4\n",
    "        elif key == ord('5'):  \n",
    "            filtro = 5\n",
    "        elif key == ord('6'):  \n",
    "            filtro = 6\n",
    "        elif key == ord('7'):\n",
    "            filtro = 7\n",
    "        elif key == ord('0'):  \n",
    "            filtro = 0\n",
    "\n",
    "        if key == ord('q'):\n",
    "            break\n",
    "\n",
    "cv2.destroyAllWindows()\n",
    "captura.release()"
   ]
  },
  {
   "cell_type": "code",
   "execution_count": null,
   "metadata": {},
   "outputs": [],
   "source": []
  }
 ],
 "metadata": {
  "kernelspec": {
   "display_name": "ml_aplicada",
   "language": "python",
   "name": "python3"
  },
  "language_info": {
   "codemirror_mode": {
    "name": "ipython",
    "version": 3
   },
   "file_extension": ".py",
   "mimetype": "text/x-python",
   "name": "python",
   "nbconvert_exporter": "python",
   "pygments_lexer": "ipython3",
   "version": "3.13.1"
  }
 },
 "nbformat": 4,
 "nbformat_minor": 2
}
